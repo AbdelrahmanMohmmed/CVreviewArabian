{
 "cells": [
  {
   "cell_type": "code",
   "execution_count": 1,
   "id": "671b8916",
   "metadata": {},
   "outputs": [],
   "source": [
    "import pandas as pd"
   ]
  },
  {
   "cell_type": "code",
   "execution_count": 3,
   "id": "e0d0d08d",
   "metadata": {},
   "outputs": [],
   "source": [
    "df = pd.read_csv(r'/home/jax/CVreviewArabian/data/job-postings/sampled_data.csv')"
   ]
  },
  {
   "cell_type": "code",
   "execution_count": 4,
   "id": "369f5b6d",
   "metadata": {},
   "outputs": [],
   "source": [
    "df.drop([\"Job Id\", \"Job Posting Date\", \"Company Profile\", \"Company\", \"Contact Person\", \"Contact\"], axis=1 , inplace=True)"
   ]
  },
  {
   "cell_type": "code",
   "execution_count": 6,
   "id": "67e52193",
   "metadata": {},
   "outputs": [],
   "source": [
    "df.to_csv(r'/home/jax/CVreviewArabian/data/preprocessed/sampled_cleaned.csv')"
   ]
  },
  {
   "cell_type": "code",
   "execution_count": null,
   "id": "2165ed2f",
   "metadata": {},
   "outputs": [],
   "source": []
  }
 ],
 "metadata": {
  "kernelspec": {
   "display_name": "Python 3",
   "language": "python",
   "name": "python3"
  },
  "language_info": {
   "codemirror_mode": {
    "name": "ipython",
    "version": 3
   },
   "file_extension": ".py",
   "mimetype": "text/x-python",
   "name": "python",
   "nbconvert_exporter": "python",
   "pygments_lexer": "ipython3",
   "version": "3.12.3"
  }
 },
 "nbformat": 4,
 "nbformat_minor": 5
}
