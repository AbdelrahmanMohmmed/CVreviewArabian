{
 "cells": [
  {
   "cell_type": "code",
   "execution_count": 1,
   "id": "fd2d20f5",
   "metadata": {},
   "outputs": [],
   "source": [
    "import pandas as pd\n",
    "import numpy as np"
   ]
  },
  {
   "cell_type": "code",
   "execution_count": 2,
   "id": "73267cc9",
   "metadata": {},
   "outputs": [],
   "source": [
    "df = pd.read_csv(r'C:\\Users\\Garen\\Desktop\\CVreviewArabian\\data\\job-postings\\job_postings.csv',index_col=0)"
   ]
  },
  {
   "cell_type": "code",
   "execution_count": 3,
   "id": "5e153a42",
   "metadata": {},
   "outputs": [
    {
     "data": {
      "application/vnd.microsoft.datawrangler.viewer.v0+json": {
       "columns": [
        {
         "name": "index",
         "rawType": "int64",
         "type": "integer"
        },
        {
         "name": "Category",
         "rawType": "object",
         "type": "string"
        },
        {
         "name": "Workplace",
         "rawType": "object",
         "type": "string"
        },
        {
         "name": "Location",
         "rawType": "object",
         "type": "string"
        },
        {
         "name": "Department",
         "rawType": "object",
         "type": "string"
        },
        {
         "name": "Type",
         "rawType": "object",
         "type": "string"
        }
       ],
       "ref": "00054dc5-3275-4fac-8c89-7e85e4fdcab6",
       "rows": [
        [
         "0",
         "Business Analyst",
         "Remote",
         "United Kingdom",
         "Operations",
         "Full time"
        ],
        [
         "1",
         "Business Analyst",
         "Remote",
         "Makati, Metro Manila, Philippines",
         "Aux HQ",
         "Full time"
        ],
        [
         "2",
         "Business Analyst",
         "On-site",
         "Al-Dajeej, Al Farwaniyah Governorate, Kuwait",
         "PWC Technologies",
         "Full time"
        ],
        [
         "3",
         "Business Analyst",
         "On-site",
         "London, England, United Kingdom",
         "Consultants, Advisory",
         "Full time"
        ],
        [
         "4",
         "Business Analyst",
         "Remote",
         "United Kingdom",
         "Operations",
         "Full time"
        ]
       ],
       "shape": {
        "columns": 5,
        "rows": 5
       }
      },
      "text/html": [
       "<div>\n",
       "<style scoped>\n",
       "    .dataframe tbody tr th:only-of-type {\n",
       "        vertical-align: middle;\n",
       "    }\n",
       "\n",
       "    .dataframe tbody tr th {\n",
       "        vertical-align: top;\n",
       "    }\n",
       "\n",
       "    .dataframe thead th {\n",
       "        text-align: right;\n",
       "    }\n",
       "</style>\n",
       "<table border=\"1\" class=\"dataframe\">\n",
       "  <thead>\n",
       "    <tr style=\"text-align: right;\">\n",
       "      <th></th>\n",
       "      <th>Category</th>\n",
       "      <th>Workplace</th>\n",
       "      <th>Location</th>\n",
       "      <th>Department</th>\n",
       "      <th>Type</th>\n",
       "    </tr>\n",
       "  </thead>\n",
       "  <tbody>\n",
       "    <tr>\n",
       "      <th>0</th>\n",
       "      <td>Business Analyst</td>\n",
       "      <td>Remote</td>\n",
       "      <td>United Kingdom</td>\n",
       "      <td>Operations</td>\n",
       "      <td>Full time</td>\n",
       "    </tr>\n",
       "    <tr>\n",
       "      <th>1</th>\n",
       "      <td>Business Analyst</td>\n",
       "      <td>Remote</td>\n",
       "      <td>Makati, Metro Manila, Philippines</td>\n",
       "      <td>Aux HQ</td>\n",
       "      <td>Full time</td>\n",
       "    </tr>\n",
       "    <tr>\n",
       "      <th>2</th>\n",
       "      <td>Business Analyst</td>\n",
       "      <td>On-site</td>\n",
       "      <td>Al-Dajeej, Al Farwaniyah Governorate, Kuwait</td>\n",
       "      <td>PWC Technologies</td>\n",
       "      <td>Full time</td>\n",
       "    </tr>\n",
       "    <tr>\n",
       "      <th>3</th>\n",
       "      <td>Business Analyst</td>\n",
       "      <td>On-site</td>\n",
       "      <td>London, England, United Kingdom</td>\n",
       "      <td>Consultants, Advisory</td>\n",
       "      <td>Full time</td>\n",
       "    </tr>\n",
       "    <tr>\n",
       "      <th>4</th>\n",
       "      <td>Business Analyst</td>\n",
       "      <td>Remote</td>\n",
       "      <td>United Kingdom</td>\n",
       "      <td>Operations</td>\n",
       "      <td>Full time</td>\n",
       "    </tr>\n",
       "  </tbody>\n",
       "</table>\n",
       "</div>"
      ],
      "text/plain": [
       "           Category Workplace                                      Location  \\\n",
       "0  Business Analyst    Remote                                United Kingdom   \n",
       "1  Business Analyst    Remote             Makati, Metro Manila, Philippines   \n",
       "2  Business Analyst   On-site  Al-Dajeej, Al Farwaniyah Governorate, Kuwait   \n",
       "3  Business Analyst   On-site               London, England, United Kingdom   \n",
       "4  Business Analyst    Remote                                United Kingdom   \n",
       "\n",
       "              Department       Type  \n",
       "0             Operations  Full time  \n",
       "1                 Aux HQ  Full time  \n",
       "2       PWC Technologies  Full time  \n",
       "3  Consultants, Advisory  Full time  \n",
       "4             Operations  Full time  "
      ]
     },
     "execution_count": 3,
     "metadata": {},
     "output_type": "execute_result"
    }
   ],
   "source": [
    "df.head()"
   ]
  },
  {
   "cell_type": "code",
   "execution_count": 4,
   "id": "609e5a38",
   "metadata": {},
   "outputs": [
    {
     "data": {
      "text/plain": [
       "(1095, 5)"
      ]
     },
     "execution_count": 4,
     "metadata": {},
     "output_type": "execute_result"
    }
   ],
   "source": [
    "df.shape"
   ]
  },
  {
   "cell_type": "code",
   "execution_count": 5,
   "id": "4aaa6de2",
   "metadata": {},
   "outputs": [],
   "source": [
    "df2 = pd.read_csv(r'C:\\Users\\Garen\\Desktop\\CVreviewArabian\\data\\job-postings\\job_description.csv',index_col=0)"
   ]
  },
  {
   "cell_type": "code",
   "execution_count": 6,
   "id": "cd1c8701",
   "metadata": {},
   "outputs": [
    {
     "data": {
      "application/vnd.microsoft.datawrangler.viewer.v0+json": {
       "columns": [
        {
         "name": "index",
         "rawType": "int64",
         "type": "integer"
        },
        {
         "name": "Category",
         "rawType": "object",
         "type": "string"
        },
        {
         "name": "Description",
         "rawType": "object",
         "type": "string"
        },
        {
         "name": "Benefits",
         "rawType": "object",
         "type": "string"
        },
        {
         "name": "Requirement",
         "rawType": "object",
         "type": "string"
        },
        {
         "name": "Requirements",
         "rawType": "object",
         "type": "unknown"
        }
       ],
       "ref": "6387fe30-cc1b-4122-aae1-abeed5c67627",
       "rows": [
        [
         "0",
         "Business Analyst",
         "Description\nJob Title: Junior Business Analyst\nLocation: Home-based (This role will require regular UK travel and at times need you to stay away from home)\nStart Date: May (To be confirmed)\nMethods is a £100M+ IT Services Consultancy who has partnered with a range of central government departments and agencies to transform the way the public sector operates in the UK. Established over 30 years ago and UK-based, we apply our skills in transformation, delivery, and collaboration from across the Methods Group, to create end-to-end business and technical solutions that are people-centred, safe, and designed for the future.\nOur human touch sets us apart from other consultancies, system integrators and software houses - with people, technology, and data at the heart of who we are, we believe in creating value and sustainability through everything we do for our clients, staff, communities, and the planet.\nWe support our clients in the success of their projects while working collaboratively to share skill sets and solve problems. At Methods we have fun while working hard; we are not afraid of making mistakes and learning from them.\nPredominantly focused on the public-sector, Methods is now building a significant private sector client portfolio.\nMethods was acquired by the Alten Group in early 2022.\nAbout the role:\nThe Junior Business Analyst is an entry level role, focussed on rapidly developing the skills and behaviours needed to be successful as a consulting Business Analyst. Through a structured development programme, over the first six-months the role will be supported through the BCS Foundation Certification developing a baseline understanding of the core skills, tools and techniques. Alongside this there will be shadowing and opportunity to deliver small client assignments under supervision and supporting more senior Business Analysts in larger deliveries, to develop experience in the practical application of the core skills, tools and techniques. The post-holder will be expected to work across the Change & Innovation Portfolio with a clear progression pathway to becoming a SFIA3 Business Analyst. This will include responsibility for supporting clients to deliver change successfully by undertaking a variety of business analysis tasks working under supervision and in multi-disciplinary teams. These responsibilities include applying analytical and problem-solving tools to help assess situations and understand problems and elicit, analyse and validate business requirements and user stories, contributing to the successful delivery of client projects.\nSuccessful applicants will have an interest in the UK public services landscape and thirst for exploring different sectors. In addition to possessing good communication and engagement skills (written and verbal) they will have an interest in innovating with new techniques and technology to support the more efficient delivery of improved outcomes.\nThe role will be home based and will include some work on client sites. The Junior Business Analyst will initially focus on development of their career to be a Business Analyst, acquiring a detailed understanding of the wider Change and Innovation Portfolio offerings and develop a set of skills, competencies and knowledge to extend their contribution to other practices and their continued progression.\nWhat Methods offer is to you:\nProfessional development\n• A supported and structured Business Analysis development pathway for your early career\n• Funded BCS Foundation Certification\n• Lean Six-Sigma and Consultancy 101 training alongside LinkedIn Learning\n• Participate and contribute to Communities of Practice development\n• Maintain your own professional development plan\n• Identify and undertake relevant training\nWhat you will do:\n• Contribute to the successful delivery of projects through the application of learning and accessing of colleague knowledge and experience that adds value to our clients\n• Engage with clients to elicit information and analyse data sources to provide considered opinion\n• Support the analysis and understanding user and business needs, including where material is drawn from multiple sources\n• Support the mapping of processes and information flows into appropriate artefacts for communication with both stakeholders and the team\n• Translate user needs into system functionality requirements\n• Explore under direction, the internal and external situation and environment, eliciting and managing any non-functional requirement\n• Manage requirements through their life cycle, ensuring traceability and supporting prioritisation with stakeholders\n• Write clear and concise user stories with clear and testable acceptance criteria.\n• Support Methods colleagues and other resources as appropriate to achieve client outcomes, resolving issues and escalating where necessary\n• Manage mechanisms for knowledge transfer to client teams and foster collaboration across client and internal boundaries\n• Support the development of new products and services and evolve existing products and services in line with market knowledge and company capability\n• Support internal change projects by applying proportionate best practice approaches\n• Contribute to project-related internal case studies and lessons learnt and help maintain the portfolio and company knowledge base\n• Actively participate in relevant professional events to gain and share industry knowledge\n• Support other team members through knowledge sharing and buddying where appropriate\nAm I the right fit? We're looking for:\n• Resilience\n• Strong collaboration and team working\n• Commitment to learning and self-development\n• Good Communication skills\n• Genuine passion/commitment to improving public services\n• A determined and tenacious approach to work\n• A creative approach to problem solving\n• Good listening and comprehension\n• Great stakeholder management\nThe benefits of our BA academy\n• A supported and structured Business Analysis development pathway for your early career\n• Funded Business Analysis certifications\n• Autonomy to develop and grow your skills and experience\n• Be part of exciting project work that is making a difference in society\n• Strong, inspiring, and thought-provoking leadership\n• A supportive and collaborative environment",
         "Benefits\nMethods is passionate about its people; we want our colleagues to develop the things they are good at and enjoy.\nBy joining us you can expect:\n· Autonomy to develop and grow your skills and experience\n· Be part of exciting project work that is making a difference in society\n· Strong, inspiring, and thought-provoking leadership\n· A supportive and collaborative environment\nAs well as this we offer:\nDevelopment – access to LinkedIn Learning, a management development programme, and training\nWellness – 24/7 confidential employee assistance programme\nFlexible Working – including home working and part time\nSocial – office parties, breakfast Tuesdays, monthly pizza Thursdays, Thirsty Thursdays, and commitment to charitable causes\nTime Off – 25 days of annual leave a year, plus bank holidays, with the option to buy 10 extra days each year\nVolunteering – 2 paid days per year to volunteer in our local communities or within a charity organisation\nPension – Salary Exchange Scheme with 4% employer contribution and 5% employee contribution\nDiscretionary Company Bonus – based on company and individual performance\nLife Assurance – of 4 times base salary\nPrivate Medical Insurance – which is non-contributory (spouse and dependants included)\nWorldwide Travel Insurance – which is non-contributory (spouse and dependants included)\nEnhanced Maternity and Paternity Pay\nTravel – season ticket loan, cycle to work scheme\nFor a full list of benefits please visit our website (www.methods.co.uk/careers/benefits)",
         "Requirements\n• Confidence in communicating and engaging with different individuals and stakeholder groups\n• Good inter-personal skills, demonstrating the ability to relate to customers and other stakeholders in their own language\n• Ability to interpret and extract information from a variety of sources, and create well presented, accurate, concise documentation, demonstrating attention to detail\n• Excellent organisational/time management skills and the ability to work calmly and professionally at pace and under pressure\n• Understanding of the basic principles of programme, project management, business analysis and change methodologies\n• Ability to recognise team dynamics and how people work together\n• Ability to support an open and collaborative environment to work in, be flexible, adaptable\n• Aptitude for identifying innovative approaches to problem solving and/or devising inventive and creative solutions.\n• How to apply skills gained from existing qualifications to the consultancy environment\n• Ability to harvest, manage, analyse and manipulate data in a variety of formats\n• Ability to write clear, accessible and persuasive reports\n• Proficiency in the use of Microsoft Office suite\nDesirable skills and experience:\n• Knowledge / experience of the public sector\n• Knowledge experience of project environments\n• Knowledge / experience of how Businesses operate (academic or experience)",
         null
        ],
        [
         "1",
         "Business Analyst",
         "Description\nThe Business Analyst (BA) will capture client requirements for configuration of our product, in accordance with the company vision, and ensure that implementation is in line with best practices.\nThey will strengthen stakeholders’ relationships by delivering our product to our customers whilst executing to the purple standard.\nWorking within a fast-growing team will offer several technical and professional challenges with rewarding outcomes.\n\nKey accountabilities\nBridging the gap between customer and product\nAssisting in the effective delivery of multiple projects by understanding the client’s requirements, systems and processes\nAssisting with the onboarding of partners to our platform, providing support for testing and ad hoc question throughout\nAssisting with the delivery of national brand campaigns\nAssisting with the ongoing client relationship to drive satisfaction\nCapturing, documenting and clearly articulating client requirements, designing the solution, documenting and obtaining sign off\nAttending client site to act as pre-sales when required\nSupporting the Eagle Eye PM to ensure that projects are delivered on time and to budget\nWriting and collating user stories and continuing to manage the user stories through to delivery\nSupporting the client by raising and triaging issues with the QA team during the user acceptance testing process\nEscalating critical issues to the PM\nParticipating in technical design reviews and workshops\nDeveloping positive and productive relationships internally with Delivery, Product and Technical Support, and externally with customers, external partners and service providers\nProviding support to the department during the onboarding of major new clients, product road map development, new product releases, service upgrades and changes driven by new and existing customer requirements\nDeveloping a strong technical understanding of our own and client’s systems",
         "Benefits\nA competitive base salary\nBonus scheme with potential to earn up to 10% of salary dependant on your own personal behaviours, achievement of goals and company revenue targets\nFlexibility to work from home or various office locations and flexible hours or job shares considered\nGenerous annual leave package including:\n25 days paid annual leave\n5 days paid sick leave which if unused gets added to your annual leave the next year\nContributory pension\nSupport in continuous learning and self-development\nSimplyhealth scheme including:\nHealth care cash back\n24 hour access to virtual doctors appointments\n24 hour employee assistance programme 24 hour employee assistance programme\nAccess to the paid Headspace app subscription\nMental Health First Aiders to support employee’s mental wellbeing\nEmployee Resource Groups focussed on underrepresented groups in Eagle Eye, including Purple Women\nCharity Committee committed to organising events throughout the year to raise money for those less privileged\nCycle to work salary sacrifice scheme (via CycleScheme)\nElectric vehicle salary sacrifice scheme (via Octopus)\nA friendly, fun, growing team of people who work hard but love to play hard too, with location specific Christmas parties and annual whole company get together hosted in the UK",
         "Requirements\nYou have…\nA methodical approach to documentation\nThe ability to manage multiple tasks and see them through to completion\nExceptional communication skills, both verbal & written\nThe ability to manage own time and prioritise accordingly to deliver for internal and external parties to tight deadlines\nExcellent problem-solving skills, and the ability to think on your feet to meet requirements under pressure\nKnowledge of API-driven and SaaS-based technology solutions (desirable)\nKnowledge of POS systems (desirable)\nBusiness related or any similar professional qualification / any software development qualification (desirable)\nYou are…\nAlways encouraging continuous improvement\nCommercially astute\nAble to work autonomously\nProactive\nInfluential\nAchievement driven\nAdaptable\nCustomer focussed\nRelentless in hunting out inefficiencies\nDecisive\nAn excellent relationship builder",
         null
        ],
        [
         "2",
         "Business Analyst",
         "Description\nWe help our clients design and deliver digital, technology and organisational transformation - solving real problems for real people.\nThis is a fantastic opportunity to make a difference on a range of exciting and meaningful government projects that will transform public services and join the growing business analyst community within Farsight Consulting.\nWe primarily work in the public sector, supporting initiatives that improve society and the lives of citizens; with not-for-profit organisations, charities and social enterprises; and with some private-sector companies.\nWe are looking for practitioners interested in developing careers as business analysts. This will involve working in a digital team to define, improve and deliver innovative digital solutions.\nWhether you have just started building your career as a BA, or have a few years of experience in research or analysis in a different field, this role would be perfect for you.",
         "Benefits\nWe have 2 promotion windows open each year so you can progress through the company.\nMore about our company benefits\n29 days holiday and Bank Holidays off\nBlended working model that enables the team to work from home, client site and in the office.\nFlexible working around our core hours of 10am to 4pm.\nPension, we pay 5% into your pension and you pay 3%.\nDeath in service benefit of four times your salary.\nA discount on gym membership and access to the BUPA Employee Assistance Programme.\nEnhanced sick pay, maternity, paternity, and adoption pay.\nRegular socials, a Workspace office in central London and an open and supportive culture.\nHealthcare Plan - 'Smart Health' through AIG\nThis is a UK based role. We offer a Hybrid working model - happy to discuss flexibility/remote arrangements.\nFarsight Consulting is committed to providing equal opportunities and creating a diverse & inclusive place of work where everyone feels welcome.",
         "Requirements\nYou are open, curious, and excited about making a difference during this exciting period of growth. Some of the things we look for include.\nWorking understanding of the principles of Agile, the roles within an Agile team and the value a BA brings\nA business analyst who can work in a range of agile digital delivery life stages\nWork closely with stakeholders to identify goals, define areas to add value, develop roadmaps and prioritise features\nGather and interpret complex information from a range of sources to provide recommendations\nApplication of frameworks and different methodologies to understand, break down, and articulate the problem space to identify potential solutions\nUsing a hypothesis-driven approach to test ideas out, fail fast and iterate thinking\nDevelopment of process maps to support an understanding of the current process to inform solution thinking\nEliciting, defining and managing user stories, requirements and acceptance criteria on Agile projects\nInterpreting and discussing solution designs with Solution Architects, and in turn, effectively communicating their benefits and drawbacks to business\nAdvising clients on how to develop and report against KPIs for new digital developments and improvements to existing digital services.",
         null
        ],
        [
         "3",
         "Business Analyst",
         "Description\nFounded in 2015 and rapidly expanding, Fresh Gravity (www.freshgravity.com) is an exciting business and technology consulting company that is at the cutting edge of digital transformation. We drive digital success for our clients by enabling them to adopt transformative technologies. We provide a range of services: from Data Management, Data Science & Analytics, to API Management/Integration and Artificial Intelligence.\nIn a short time, we have crafted an exceptional team who have delivered impactful projects for some of the largest corporations in the world. We are on a mission to solve the most complex business problems for our clients using the most exciting new technologies. And we are looking for top talent to join us in our quest.\nFresh Gravity’s team members are authorities in their field, but know how to have fun, too. We’re building an inspiring, open organization you’ll take pride in. We challenge ourselves to grow – every day. We create value for our clients and partners – every day. We promise rich opportunities for you to succeed, to shine, to exceed even your own expectations.\nWe are thoughtful. We are engaged. We are relentless. We are Fresh Gravity.\nFresh Gravity is an equal opportunity employer.\n\nWe are seeking a strong techno-functional business analyst who will be responsible for driving successful project outcomes for Fresh Gravity’s clients. The role entails delivery involvement of data management solution projects with key inputs on the solution options, implementation approaches, delivery planning and execution. The person will be responsible for assisting and developing proposals for such engagements as well as negotiating delivery related actions through the life of a project. In addition, the person will be responsible for working with other Fresh Gravity stakeholders to define and refine delivery methodology artifacts and approaches, design and implement data management project execution best practices, develop sales and marketing collateral as well as represent Fresh Gravity at client or other public events. Someone who is looking for a niche consulting firm with an excellent culture with the desire to grow as the company grows would make a great candidate.",
         "Benefits\nIn addition to a competitive package, we promise rich opportunities for you to succeed, to shine, to exceed even your own expectations. In keeping with Fresh Gravity’s challenger ethos, we have developed the 5Dimensions (5D) benefits program. This program recognizes the multiple dimensions within each of us and seek to provide opportunities for deep development across these dimensions. Enrich Myself; Enhance My Client; Build my Company, Nurture My Family; and Better Humanity.",
         "Requirements\nKey Responsibilities Include:\nParticipate in the full delivery lifecycle of strategy and implementation projects for our clients using agile and hybrid project management approaches.\nPlan workstreams, identify, report and manage/mitigate risks, manage resolution of outstanding issues and actions,\nParticipate in strategy/roadmap initiatives while aligning the strategy to the business objectives, including helping establish organization constructs, development methodologies and selection of technology components (e.g., API gateways, code repository tools, data quality tools, data management/governance strategy, etc.)\nPlan, lead and manage requirements definition and solution design working sessions in addition to documenting functional use cases and architectures, business requirements, and high level business solution approaches\nResearch market trends and technology articles, propose strategic direction ideas, best practices, gathering current state information through stakeholder interaction using interviews / workshops\nCommunicate business requirements to architects and developers, assist in conducting feasibility assessments and identify optimal approaches to technically achieve the business requirements (e.g., Assist Sr. Technical Architects and leads on a data platform implementation)\nDefine and influence direction of organization constructs and technology management methodology change with organizations (e.g., define data governance frameworks on a data governance strategy assessment project)\nOwn the delivery of demos to our clients of working software built to specification and soliciting feedback to ensure satisfaction of business requirements (e.g., demonstrate data stewardship functionality on an MDM project)\nVerify the development artifacts/software are built to specification through various levels of testing\nOther:\nAssist in responding to RFPs by participating in planning, scoping, solution definition and estimation\nManage client and vendor partner relationships and activities to ensure alignment of schedule, scope, and responsibilities\nSupport and contribute to an evolving project delivery methodology by designing and creating templates, accelerators and reusable artifacts.\nSkills and Qualification Requirements\nBachelors or Masters (preferred) degree in a technology or project management discipline\n6 to 8 years of business system analysis and functional architecture experience\nStrong knowledge of Master Data Management is required, and domain knowledge in Life Sciences and Healthcare is a plus\nShould have participated in at least 1-2 Master Data Management implementation projects\nKnowledge of cloud-based data ingestion and data warehouse tools is a strong plus\nSome experience with data modeling is expected.\n2+ years of experience working in a business context (technology consulting, systems integration, management consulting, working as an analyst “in industry,” etc.) – Big 5 Consulting or similar (e.g., Deloitte, Accenture, E&Y, KPMG, PwC, Slalom, etc.) background is highly desirable\nDemonstrated experience traversing from lower level details to executive level birds eye view on project progress, execution and deliverables\nRunning effective client meetings (setting context, establishing goals, capturing key decisions, managing scope changes, etc.)\nManaging scope and negotiating change requests\nStrong experience and familiarity with tools, templates and accelerators of different types pertaining to different stages of a project (e.g., project retrospective tools, Jira backlog boards, Quality Strategy templates, Functional design documents, etc.)\nExpert experience with tools like Jira and Confluence\nExceptional proficiency with project - and stakeholder-management theory and practices – demonstrated ability to proactively drive workstreams with minimal supervision, independently escalate and resolve issues, handle changes in technical direction, etc.\nCandidate must be local to Austin area.",
         null
        ],
        [
         "4",
         "Business Analyst",
         "Description\nWe are seeking a skilled Business Analyst to join our team. As a Business Analyst at our fast-growing organization, you will play a pivotal role in our operations and R&D teams. You will excel in data analysis using tools like Excel, Sheets, and other relevant software. Your proficiency in project management and financial modeling will drive accurate forecasting and planning, aiding critical decision-making processes. Leveraging your experience, you will execute a diverse range of operational and analytics tasks. Your collaborative nature will shine as you work closely with cross-functional teams to drive innovation and operational excellence.\nResponsibilities:\nAnalyze key business metrics and devise improvement plans\nUtilize Excel, Sheets, and other tools for comprehensive data analysis\nApply financial modeling expertise for accurate forecasting and planning\nManage projects efficiently, ensuring timely delivery and successful execution\nCollaborate with operations and R&D teams to provide actionable insights",
         "Benefits\nFood Allowance\nGovernment Benefits\n13th Month pay\nWork Equipment\nNight Differential if applicable (10% of hourly rate)\n20 Leaves (after 6 months)\nHoliday pay (200% on Regular holidays; 130% on Special holidays)\nOvertime pay (max of 10.25 hrs/day)\nReferral bonus (P10,000 if referral passed and stayed with the company for 3 months)\nHMO (after 6 months)",
         "Requirements\nBachelor's Degree in management or other related fields\nProficiency in Excel / Sheets for data analysis\nStrong project management skills\nTraining in financial modeling\nExperience in forecasting, planning, and project management\nExcellent analytical and problem-solving abilities\nMust be willing to work US business hours\nFlexibility in coverage – being able to support a wide array of personalities and leaders\nNice-to-have:\nExperience working in major consulting/accounting firms, BPOs, and/or banks\nExperience in virtual assistance or remote work\nExperience in a startup environment, US-based company, or other similarly fast-paced, highly demanding, high volume, dynamic environment",
         null
        ]
       ],
       "shape": {
        "columns": 5,
        "rows": 5
       }
      },
      "text/html": [
       "<div>\n",
       "<style scoped>\n",
       "    .dataframe tbody tr th:only-of-type {\n",
       "        vertical-align: middle;\n",
       "    }\n",
       "\n",
       "    .dataframe tbody tr th {\n",
       "        vertical-align: top;\n",
       "    }\n",
       "\n",
       "    .dataframe thead th {\n",
       "        text-align: right;\n",
       "    }\n",
       "</style>\n",
       "<table border=\"1\" class=\"dataframe\">\n",
       "  <thead>\n",
       "    <tr style=\"text-align: right;\">\n",
       "      <th></th>\n",
       "      <th>Category</th>\n",
       "      <th>Description</th>\n",
       "      <th>Benefits</th>\n",
       "      <th>Requirement</th>\n",
       "      <th>Requirements</th>\n",
       "    </tr>\n",
       "  </thead>\n",
       "  <tbody>\n",
       "    <tr>\n",
       "      <th>0</th>\n",
       "      <td>Business Analyst</td>\n",
       "      <td>Description\\nJob Title: Junior Business Analys...</td>\n",
       "      <td>Benefits\\nMethods is passionate about its peop...</td>\n",
       "      <td>Requirements\\n• Confidence in communicating an...</td>\n",
       "      <td>NaN</td>\n",
       "    </tr>\n",
       "    <tr>\n",
       "      <th>1</th>\n",
       "      <td>Business Analyst</td>\n",
       "      <td>Description\\nThe Business Analyst (BA) will ca...</td>\n",
       "      <td>Benefits\\nA competitive base salary\\nBonus sch...</td>\n",
       "      <td>Requirements\\nYou have…\\nA methodical approach...</td>\n",
       "      <td>NaN</td>\n",
       "    </tr>\n",
       "    <tr>\n",
       "      <th>2</th>\n",
       "      <td>Business Analyst</td>\n",
       "      <td>Description\\nWe help our clients design and de...</td>\n",
       "      <td>Benefits\\nWe have 2 promotion windows open eac...</td>\n",
       "      <td>Requirements\\nYou are open, curious, and excit...</td>\n",
       "      <td>NaN</td>\n",
       "    </tr>\n",
       "    <tr>\n",
       "      <th>3</th>\n",
       "      <td>Business Analyst</td>\n",
       "      <td>Description\\nFounded in 2015 and rapidly expan...</td>\n",
       "      <td>Benefits\\nIn addition to a competitive package...</td>\n",
       "      <td>Requirements\\nKey Responsibilities Include:\\nP...</td>\n",
       "      <td>NaN</td>\n",
       "    </tr>\n",
       "    <tr>\n",
       "      <th>4</th>\n",
       "      <td>Business Analyst</td>\n",
       "      <td>Description\\nWe are seeking a skilled Business...</td>\n",
       "      <td>Benefits\\nFood Allowance\\nGovernment Benefits\\...</td>\n",
       "      <td>Requirements\\nBachelor's Degree in management ...</td>\n",
       "      <td>NaN</td>\n",
       "    </tr>\n",
       "  </tbody>\n",
       "</table>\n",
       "</div>"
      ],
      "text/plain": [
       "           Category                                        Description  \\\n",
       "0  Business Analyst  Description\\nJob Title: Junior Business Analys...   \n",
       "1  Business Analyst  Description\\nThe Business Analyst (BA) will ca...   \n",
       "2  Business Analyst  Description\\nWe help our clients design and de...   \n",
       "3  Business Analyst  Description\\nFounded in 2015 and rapidly expan...   \n",
       "4  Business Analyst  Description\\nWe are seeking a skilled Business...   \n",
       "\n",
       "                                            Benefits  \\\n",
       "0  Benefits\\nMethods is passionate about its peop...   \n",
       "1  Benefits\\nA competitive base salary\\nBonus sch...   \n",
       "2  Benefits\\nWe have 2 promotion windows open eac...   \n",
       "3  Benefits\\nIn addition to a competitive package...   \n",
       "4  Benefits\\nFood Allowance\\nGovernment Benefits\\...   \n",
       "\n",
       "                                         Requirement Requirements  \n",
       "0  Requirements\\n• Confidence in communicating an...          NaN  \n",
       "1  Requirements\\nYou have…\\nA methodical approach...          NaN  \n",
       "2  Requirements\\nYou are open, curious, and excit...          NaN  \n",
       "3  Requirements\\nKey Responsibilities Include:\\nP...          NaN  \n",
       "4  Requirements\\nBachelor's Degree in management ...          NaN  "
      ]
     },
     "execution_count": 6,
     "metadata": {},
     "output_type": "execute_result"
    }
   ],
   "source": [
    "df2.head()"
   ]
  },
  {
   "cell_type": "code",
   "execution_count": 7,
   "id": "5ed3a783",
   "metadata": {},
   "outputs": [
    {
     "name": "stdout",
     "output_type": "stream",
     "text": [
      "<class 'pandas.core.frame.DataFrame'>\n",
      "Index: 325 entries, 0 to 324\n",
      "Data columns (total 5 columns):\n",
      " #   Column        Non-Null Count  Dtype \n",
      "---  ------        --------------  ----- \n",
      " 0   Category      325 non-null    object\n",
      " 1   Description   316 non-null    object\n",
      " 2   Benefits      272 non-null    object\n",
      " 3   Requirement   54 non-null     object\n",
      " 4   Requirements  261 non-null    object\n",
      "dtypes: object(5)\n",
      "memory usage: 15.2+ KB\n"
     ]
    }
   ],
   "source": [
    "df2.info()"
   ]
  },
  {
   "cell_type": "code",
   "execution_count": 8,
   "id": "797fa0c2",
   "metadata": {},
   "outputs": [],
   "source": [
    "df2['full_requirements'] = df2[['Requirement', 'Requirements']].fillna('').agg(' '.join, axis=1).str.strip()\n"
   ]
  },
  {
   "cell_type": "code",
   "execution_count": 9,
   "id": "25fa6b71",
   "metadata": {},
   "outputs": [
    {
     "name": "stdout",
     "output_type": "stream",
     "text": [
      "<class 'pandas.core.frame.DataFrame'>\n",
      "Index: 325 entries, 0 to 324\n",
      "Data columns (total 6 columns):\n",
      " #   Column             Non-Null Count  Dtype \n",
      "---  ------             --------------  ----- \n",
      " 0   Category           325 non-null    object\n",
      " 1   Description        316 non-null    object\n",
      " 2   Benefits           272 non-null    object\n",
      " 3   Requirement        54 non-null     object\n",
      " 4   Requirements       261 non-null    object\n",
      " 5   full_requirements  325 non-null    object\n",
      "dtypes: object(6)\n",
      "memory usage: 17.8+ KB\n"
     ]
    }
   ],
   "source": [
    "df2.info()"
   ]
  },
  {
   "cell_type": "code",
   "execution_count": 10,
   "id": "2a63b1e7",
   "metadata": {},
   "outputs": [
    {
     "data": {
      "application/vnd.microsoft.datawrangler.viewer.v0+json": {
       "columns": [
        {
         "name": "index",
         "rawType": "int64",
         "type": "integer"
        },
        {
         "name": "Category",
         "rawType": "object",
         "type": "string"
        },
        {
         "name": "Description",
         "rawType": "object",
         "type": "string"
        },
        {
         "name": "Benefits",
         "rawType": "object",
         "type": "string"
        },
        {
         "name": "Requirement",
         "rawType": "object",
         "type": "string"
        },
        {
         "name": "Requirements",
         "rawType": "object",
         "type": "unknown"
        },
        {
         "name": "full_requirements",
         "rawType": "object",
         "type": "string"
        }
       ],
       "ref": "3d0b0bda-a6df-45dc-9f3a-4c8958d64a03",
       "rows": [
        [
         "0",
         "Business Analyst",
         "Description\nJob Title: Junior Business Analyst\nLocation: Home-based (This role will require regular UK travel and at times need you to stay away from home)\nStart Date: May (To be confirmed)\nMethods is a £100M+ IT Services Consultancy who has partnered with a range of central government departments and agencies to transform the way the public sector operates in the UK. Established over 30 years ago and UK-based, we apply our skills in transformation, delivery, and collaboration from across the Methods Group, to create end-to-end business and technical solutions that are people-centred, safe, and designed for the future.\nOur human touch sets us apart from other consultancies, system integrators and software houses - with people, technology, and data at the heart of who we are, we believe in creating value and sustainability through everything we do for our clients, staff, communities, and the planet.\nWe support our clients in the success of their projects while working collaboratively to share skill sets and solve problems. At Methods we have fun while working hard; we are not afraid of making mistakes and learning from them.\nPredominantly focused on the public-sector, Methods is now building a significant private sector client portfolio.\nMethods was acquired by the Alten Group in early 2022.\nAbout the role:\nThe Junior Business Analyst is an entry level role, focussed on rapidly developing the skills and behaviours needed to be successful as a consulting Business Analyst. Through a structured development programme, over the first six-months the role will be supported through the BCS Foundation Certification developing a baseline understanding of the core skills, tools and techniques. Alongside this there will be shadowing and opportunity to deliver small client assignments under supervision and supporting more senior Business Analysts in larger deliveries, to develop experience in the practical application of the core skills, tools and techniques. The post-holder will be expected to work across the Change & Innovation Portfolio with a clear progression pathway to becoming a SFIA3 Business Analyst. This will include responsibility for supporting clients to deliver change successfully by undertaking a variety of business analysis tasks working under supervision and in multi-disciplinary teams. These responsibilities include applying analytical and problem-solving tools to help assess situations and understand problems and elicit, analyse and validate business requirements and user stories, contributing to the successful delivery of client projects.\nSuccessful applicants will have an interest in the UK public services landscape and thirst for exploring different sectors. In addition to possessing good communication and engagement skills (written and verbal) they will have an interest in innovating with new techniques and technology to support the more efficient delivery of improved outcomes.\nThe role will be home based and will include some work on client sites. The Junior Business Analyst will initially focus on development of their career to be a Business Analyst, acquiring a detailed understanding of the wider Change and Innovation Portfolio offerings and develop a set of skills, competencies and knowledge to extend their contribution to other practices and their continued progression.\nWhat Methods offer is to you:\nProfessional development\n• A supported and structured Business Analysis development pathway for your early career\n• Funded BCS Foundation Certification\n• Lean Six-Sigma and Consultancy 101 training alongside LinkedIn Learning\n• Participate and contribute to Communities of Practice development\n• Maintain your own professional development plan\n• Identify and undertake relevant training\nWhat you will do:\n• Contribute to the successful delivery of projects through the application of learning and accessing of colleague knowledge and experience that adds value to our clients\n• Engage with clients to elicit information and analyse data sources to provide considered opinion\n• Support the analysis and understanding user and business needs, including where material is drawn from multiple sources\n• Support the mapping of processes and information flows into appropriate artefacts for communication with both stakeholders and the team\n• Translate user needs into system functionality requirements\n• Explore under direction, the internal and external situation and environment, eliciting and managing any non-functional requirement\n• Manage requirements through their life cycle, ensuring traceability and supporting prioritisation with stakeholders\n• Write clear and concise user stories with clear and testable acceptance criteria.\n• Support Methods colleagues and other resources as appropriate to achieve client outcomes, resolving issues and escalating where necessary\n• Manage mechanisms for knowledge transfer to client teams and foster collaboration across client and internal boundaries\n• Support the development of new products and services and evolve existing products and services in line with market knowledge and company capability\n• Support internal change projects by applying proportionate best practice approaches\n• Contribute to project-related internal case studies and lessons learnt and help maintain the portfolio and company knowledge base\n• Actively participate in relevant professional events to gain and share industry knowledge\n• Support other team members through knowledge sharing and buddying where appropriate\nAm I the right fit? We're looking for:\n• Resilience\n• Strong collaboration and team working\n• Commitment to learning and self-development\n• Good Communication skills\n• Genuine passion/commitment to improving public services\n• A determined and tenacious approach to work\n• A creative approach to problem solving\n• Good listening and comprehension\n• Great stakeholder management\nThe benefits of our BA academy\n• A supported and structured Business Analysis development pathway for your early career\n• Funded Business Analysis certifications\n• Autonomy to develop and grow your skills and experience\n• Be part of exciting project work that is making a difference in society\n• Strong, inspiring, and thought-provoking leadership\n• A supportive and collaborative environment",
         "Benefits\nMethods is passionate about its people; we want our colleagues to develop the things they are good at and enjoy.\nBy joining us you can expect:\n· Autonomy to develop and grow your skills and experience\n· Be part of exciting project work that is making a difference in society\n· Strong, inspiring, and thought-provoking leadership\n· A supportive and collaborative environment\nAs well as this we offer:\nDevelopment – access to LinkedIn Learning, a management development programme, and training\nWellness – 24/7 confidential employee assistance programme\nFlexible Working – including home working and part time\nSocial – office parties, breakfast Tuesdays, monthly pizza Thursdays, Thirsty Thursdays, and commitment to charitable causes\nTime Off – 25 days of annual leave a year, plus bank holidays, with the option to buy 10 extra days each year\nVolunteering – 2 paid days per year to volunteer in our local communities or within a charity organisation\nPension – Salary Exchange Scheme with 4% employer contribution and 5% employee contribution\nDiscretionary Company Bonus – based on company and individual performance\nLife Assurance – of 4 times base salary\nPrivate Medical Insurance – which is non-contributory (spouse and dependants included)\nWorldwide Travel Insurance – which is non-contributory (spouse and dependants included)\nEnhanced Maternity and Paternity Pay\nTravel – season ticket loan, cycle to work scheme\nFor a full list of benefits please visit our website (www.methods.co.uk/careers/benefits)",
         "Requirements\n• Confidence in communicating and engaging with different individuals and stakeholder groups\n• Good inter-personal skills, demonstrating the ability to relate to customers and other stakeholders in their own language\n• Ability to interpret and extract information from a variety of sources, and create well presented, accurate, concise documentation, demonstrating attention to detail\n• Excellent organisational/time management skills and the ability to work calmly and professionally at pace and under pressure\n• Understanding of the basic principles of programme, project management, business analysis and change methodologies\n• Ability to recognise team dynamics and how people work together\n• Ability to support an open and collaborative environment to work in, be flexible, adaptable\n• Aptitude for identifying innovative approaches to problem solving and/or devising inventive and creative solutions.\n• How to apply skills gained from existing qualifications to the consultancy environment\n• Ability to harvest, manage, analyse and manipulate data in a variety of formats\n• Ability to write clear, accessible and persuasive reports\n• Proficiency in the use of Microsoft Office suite\nDesirable skills and experience:\n• Knowledge / experience of the public sector\n• Knowledge experience of project environments\n• Knowledge / experience of how Businesses operate (academic or experience)",
         null,
         "Requirements\n• Confidence in communicating and engaging with different individuals and stakeholder groups\n• Good inter-personal skills, demonstrating the ability to relate to customers and other stakeholders in their own language\n• Ability to interpret and extract information from a variety of sources, and create well presented, accurate, concise documentation, demonstrating attention to detail\n• Excellent organisational/time management skills and the ability to work calmly and professionally at pace and under pressure\n• Understanding of the basic principles of programme, project management, business analysis and change methodologies\n• Ability to recognise team dynamics and how people work together\n• Ability to support an open and collaborative environment to work in, be flexible, adaptable\n• Aptitude for identifying innovative approaches to problem solving and/or devising inventive and creative solutions.\n• How to apply skills gained from existing qualifications to the consultancy environment\n• Ability to harvest, manage, analyse and manipulate data in a variety of formats\n• Ability to write clear, accessible and persuasive reports\n• Proficiency in the use of Microsoft Office suite\nDesirable skills and experience:\n• Knowledge / experience of the public sector\n• Knowledge experience of project environments\n• Knowledge / experience of how Businesses operate (academic or experience)"
        ],
        [
         "1",
         "Business Analyst",
         "Description\nThe Business Analyst (BA) will capture client requirements for configuration of our product, in accordance with the company vision, and ensure that implementation is in line with best practices.\nThey will strengthen stakeholders’ relationships by delivering our product to our customers whilst executing to the purple standard.\nWorking within a fast-growing team will offer several technical and professional challenges with rewarding outcomes.\n\nKey accountabilities\nBridging the gap between customer and product\nAssisting in the effective delivery of multiple projects by understanding the client’s requirements, systems and processes\nAssisting with the onboarding of partners to our platform, providing support for testing and ad hoc question throughout\nAssisting with the delivery of national brand campaigns\nAssisting with the ongoing client relationship to drive satisfaction\nCapturing, documenting and clearly articulating client requirements, designing the solution, documenting and obtaining sign off\nAttending client site to act as pre-sales when required\nSupporting the Eagle Eye PM to ensure that projects are delivered on time and to budget\nWriting and collating user stories and continuing to manage the user stories through to delivery\nSupporting the client by raising and triaging issues with the QA team during the user acceptance testing process\nEscalating critical issues to the PM\nParticipating in technical design reviews and workshops\nDeveloping positive and productive relationships internally with Delivery, Product and Technical Support, and externally with customers, external partners and service providers\nProviding support to the department during the onboarding of major new clients, product road map development, new product releases, service upgrades and changes driven by new and existing customer requirements\nDeveloping a strong technical understanding of our own and client’s systems",
         "Benefits\nA competitive base salary\nBonus scheme with potential to earn up to 10% of salary dependant on your own personal behaviours, achievement of goals and company revenue targets\nFlexibility to work from home or various office locations and flexible hours or job shares considered\nGenerous annual leave package including:\n25 days paid annual leave\n5 days paid sick leave which if unused gets added to your annual leave the next year\nContributory pension\nSupport in continuous learning and self-development\nSimplyhealth scheme including:\nHealth care cash back\n24 hour access to virtual doctors appointments\n24 hour employee assistance programme 24 hour employee assistance programme\nAccess to the paid Headspace app subscription\nMental Health First Aiders to support employee’s mental wellbeing\nEmployee Resource Groups focussed on underrepresented groups in Eagle Eye, including Purple Women\nCharity Committee committed to organising events throughout the year to raise money for those less privileged\nCycle to work salary sacrifice scheme (via CycleScheme)\nElectric vehicle salary sacrifice scheme (via Octopus)\nA friendly, fun, growing team of people who work hard but love to play hard too, with location specific Christmas parties and annual whole company get together hosted in the UK",
         "Requirements\nYou have…\nA methodical approach to documentation\nThe ability to manage multiple tasks and see them through to completion\nExceptional communication skills, both verbal & written\nThe ability to manage own time and prioritise accordingly to deliver for internal and external parties to tight deadlines\nExcellent problem-solving skills, and the ability to think on your feet to meet requirements under pressure\nKnowledge of API-driven and SaaS-based technology solutions (desirable)\nKnowledge of POS systems (desirable)\nBusiness related or any similar professional qualification / any software development qualification (desirable)\nYou are…\nAlways encouraging continuous improvement\nCommercially astute\nAble to work autonomously\nProactive\nInfluential\nAchievement driven\nAdaptable\nCustomer focussed\nRelentless in hunting out inefficiencies\nDecisive\nAn excellent relationship builder",
         null,
         "Requirements\nYou have…\nA methodical approach to documentation\nThe ability to manage multiple tasks and see them through to completion\nExceptional communication skills, both verbal & written\nThe ability to manage own time and prioritise accordingly to deliver for internal and external parties to tight deadlines\nExcellent problem-solving skills, and the ability to think on your feet to meet requirements under pressure\nKnowledge of API-driven and SaaS-based technology solutions (desirable)\nKnowledge of POS systems (desirable)\nBusiness related or any similar professional qualification / any software development qualification (desirable)\nYou are…\nAlways encouraging continuous improvement\nCommercially astute\nAble to work autonomously\nProactive\nInfluential\nAchievement driven\nAdaptable\nCustomer focussed\nRelentless in hunting out inefficiencies\nDecisive\nAn excellent relationship builder"
        ],
        [
         "2",
         "Business Analyst",
         "Description\nWe help our clients design and deliver digital, technology and organisational transformation - solving real problems for real people.\nThis is a fantastic opportunity to make a difference on a range of exciting and meaningful government projects that will transform public services and join the growing business analyst community within Farsight Consulting.\nWe primarily work in the public sector, supporting initiatives that improve society and the lives of citizens; with not-for-profit organisations, charities and social enterprises; and with some private-sector companies.\nWe are looking for practitioners interested in developing careers as business analysts. This will involve working in a digital team to define, improve and deliver innovative digital solutions.\nWhether you have just started building your career as a BA, or have a few years of experience in research or analysis in a different field, this role would be perfect for you.",
         "Benefits\nWe have 2 promotion windows open each year so you can progress through the company.\nMore about our company benefits\n29 days holiday and Bank Holidays off\nBlended working model that enables the team to work from home, client site and in the office.\nFlexible working around our core hours of 10am to 4pm.\nPension, we pay 5% into your pension and you pay 3%.\nDeath in service benefit of four times your salary.\nA discount on gym membership and access to the BUPA Employee Assistance Programme.\nEnhanced sick pay, maternity, paternity, and adoption pay.\nRegular socials, a Workspace office in central London and an open and supportive culture.\nHealthcare Plan - 'Smart Health' through AIG\nThis is a UK based role. We offer a Hybrid working model - happy to discuss flexibility/remote arrangements.\nFarsight Consulting is committed to providing equal opportunities and creating a diverse & inclusive place of work where everyone feels welcome.",
         "Requirements\nYou are open, curious, and excited about making a difference during this exciting period of growth. Some of the things we look for include.\nWorking understanding of the principles of Agile, the roles within an Agile team and the value a BA brings\nA business analyst who can work in a range of agile digital delivery life stages\nWork closely with stakeholders to identify goals, define areas to add value, develop roadmaps and prioritise features\nGather and interpret complex information from a range of sources to provide recommendations\nApplication of frameworks and different methodologies to understand, break down, and articulate the problem space to identify potential solutions\nUsing a hypothesis-driven approach to test ideas out, fail fast and iterate thinking\nDevelopment of process maps to support an understanding of the current process to inform solution thinking\nEliciting, defining and managing user stories, requirements and acceptance criteria on Agile projects\nInterpreting and discussing solution designs with Solution Architects, and in turn, effectively communicating their benefits and drawbacks to business\nAdvising clients on how to develop and report against KPIs for new digital developments and improvements to existing digital services.",
         null,
         "Requirements\nYou are open, curious, and excited about making a difference during this exciting period of growth. Some of the things we look for include.\nWorking understanding of the principles of Agile, the roles within an Agile team and the value a BA brings\nA business analyst who can work in a range of agile digital delivery life stages\nWork closely with stakeholders to identify goals, define areas to add value, develop roadmaps and prioritise features\nGather and interpret complex information from a range of sources to provide recommendations\nApplication of frameworks and different methodologies to understand, break down, and articulate the problem space to identify potential solutions\nUsing a hypothesis-driven approach to test ideas out, fail fast and iterate thinking\nDevelopment of process maps to support an understanding of the current process to inform solution thinking\nEliciting, defining and managing user stories, requirements and acceptance criteria on Agile projects\nInterpreting and discussing solution designs with Solution Architects, and in turn, effectively communicating their benefits and drawbacks to business\nAdvising clients on how to develop and report against KPIs for new digital developments and improvements to existing digital services."
        ],
        [
         "3",
         "Business Analyst",
         "Description\nFounded in 2015 and rapidly expanding, Fresh Gravity (www.freshgravity.com) is an exciting business and technology consulting company that is at the cutting edge of digital transformation. We drive digital success for our clients by enabling them to adopt transformative technologies. We provide a range of services: from Data Management, Data Science & Analytics, to API Management/Integration and Artificial Intelligence.\nIn a short time, we have crafted an exceptional team who have delivered impactful projects for some of the largest corporations in the world. We are on a mission to solve the most complex business problems for our clients using the most exciting new technologies. And we are looking for top talent to join us in our quest.\nFresh Gravity’s team members are authorities in their field, but know how to have fun, too. We’re building an inspiring, open organization you’ll take pride in. We challenge ourselves to grow – every day. We create value for our clients and partners – every day. We promise rich opportunities for you to succeed, to shine, to exceed even your own expectations.\nWe are thoughtful. We are engaged. We are relentless. We are Fresh Gravity.\nFresh Gravity is an equal opportunity employer.\n\nWe are seeking a strong techno-functional business analyst who will be responsible for driving successful project outcomes for Fresh Gravity’s clients. The role entails delivery involvement of data management solution projects with key inputs on the solution options, implementation approaches, delivery planning and execution. The person will be responsible for assisting and developing proposals for such engagements as well as negotiating delivery related actions through the life of a project. In addition, the person will be responsible for working with other Fresh Gravity stakeholders to define and refine delivery methodology artifacts and approaches, design and implement data management project execution best practices, develop sales and marketing collateral as well as represent Fresh Gravity at client or other public events. Someone who is looking for a niche consulting firm with an excellent culture with the desire to grow as the company grows would make a great candidate.",
         "Benefits\nIn addition to a competitive package, we promise rich opportunities for you to succeed, to shine, to exceed even your own expectations. In keeping with Fresh Gravity’s challenger ethos, we have developed the 5Dimensions (5D) benefits program. This program recognizes the multiple dimensions within each of us and seek to provide opportunities for deep development across these dimensions. Enrich Myself; Enhance My Client; Build my Company, Nurture My Family; and Better Humanity.",
         "Requirements\nKey Responsibilities Include:\nParticipate in the full delivery lifecycle of strategy and implementation projects for our clients using agile and hybrid project management approaches.\nPlan workstreams, identify, report and manage/mitigate risks, manage resolution of outstanding issues and actions,\nParticipate in strategy/roadmap initiatives while aligning the strategy to the business objectives, including helping establish organization constructs, development methodologies and selection of technology components (e.g., API gateways, code repository tools, data quality tools, data management/governance strategy, etc.)\nPlan, lead and manage requirements definition and solution design working sessions in addition to documenting functional use cases and architectures, business requirements, and high level business solution approaches\nResearch market trends and technology articles, propose strategic direction ideas, best practices, gathering current state information through stakeholder interaction using interviews / workshops\nCommunicate business requirements to architects and developers, assist in conducting feasibility assessments and identify optimal approaches to technically achieve the business requirements (e.g., Assist Sr. Technical Architects and leads on a data platform implementation)\nDefine and influence direction of organization constructs and technology management methodology change with organizations (e.g., define data governance frameworks on a data governance strategy assessment project)\nOwn the delivery of demos to our clients of working software built to specification and soliciting feedback to ensure satisfaction of business requirements (e.g., demonstrate data stewardship functionality on an MDM project)\nVerify the development artifacts/software are built to specification through various levels of testing\nOther:\nAssist in responding to RFPs by participating in planning, scoping, solution definition and estimation\nManage client and vendor partner relationships and activities to ensure alignment of schedule, scope, and responsibilities\nSupport and contribute to an evolving project delivery methodology by designing and creating templates, accelerators and reusable artifacts.\nSkills and Qualification Requirements\nBachelors or Masters (preferred) degree in a technology or project management discipline\n6 to 8 years of business system analysis and functional architecture experience\nStrong knowledge of Master Data Management is required, and domain knowledge in Life Sciences and Healthcare is a plus\nShould have participated in at least 1-2 Master Data Management implementation projects\nKnowledge of cloud-based data ingestion and data warehouse tools is a strong plus\nSome experience with data modeling is expected.\n2+ years of experience working in a business context (technology consulting, systems integration, management consulting, working as an analyst “in industry,” etc.) – Big 5 Consulting or similar (e.g., Deloitte, Accenture, E&Y, KPMG, PwC, Slalom, etc.) background is highly desirable\nDemonstrated experience traversing from lower level details to executive level birds eye view on project progress, execution and deliverables\nRunning effective client meetings (setting context, establishing goals, capturing key decisions, managing scope changes, etc.)\nManaging scope and negotiating change requests\nStrong experience and familiarity with tools, templates and accelerators of different types pertaining to different stages of a project (e.g., project retrospective tools, Jira backlog boards, Quality Strategy templates, Functional design documents, etc.)\nExpert experience with tools like Jira and Confluence\nExceptional proficiency with project - and stakeholder-management theory and practices – demonstrated ability to proactively drive workstreams with minimal supervision, independently escalate and resolve issues, handle changes in technical direction, etc.\nCandidate must be local to Austin area.",
         null,
         "Requirements\nKey Responsibilities Include:\nParticipate in the full delivery lifecycle of strategy and implementation projects for our clients using agile and hybrid project management approaches.\nPlan workstreams, identify, report and manage/mitigate risks, manage resolution of outstanding issues and actions,\nParticipate in strategy/roadmap initiatives while aligning the strategy to the business objectives, including helping establish organization constructs, development methodologies and selection of technology components (e.g., API gateways, code repository tools, data quality tools, data management/governance strategy, etc.)\nPlan, lead and manage requirements definition and solution design working sessions in addition to documenting functional use cases and architectures, business requirements, and high level business solution approaches\nResearch market trends and technology articles, propose strategic direction ideas, best practices, gathering current state information through stakeholder interaction using interviews / workshops\nCommunicate business requirements to architects and developers, assist in conducting feasibility assessments and identify optimal approaches to technically achieve the business requirements (e.g., Assist Sr. Technical Architects and leads on a data platform implementation)\nDefine and influence direction of organization constructs and technology management methodology change with organizations (e.g., define data governance frameworks on a data governance strategy assessment project)\nOwn the delivery of demos to our clients of working software built to specification and soliciting feedback to ensure satisfaction of business requirements (e.g., demonstrate data stewardship functionality on an MDM project)\nVerify the development artifacts/software are built to specification through various levels of testing\nOther:\nAssist in responding to RFPs by participating in planning, scoping, solution definition and estimation\nManage client and vendor partner relationships and activities to ensure alignment of schedule, scope, and responsibilities\nSupport and contribute to an evolving project delivery methodology by designing and creating templates, accelerators and reusable artifacts.\nSkills and Qualification Requirements\nBachelors or Masters (preferred) degree in a technology or project management discipline\n6 to 8 years of business system analysis and functional architecture experience\nStrong knowledge of Master Data Management is required, and domain knowledge in Life Sciences and Healthcare is a plus\nShould have participated in at least 1-2 Master Data Management implementation projects\nKnowledge of cloud-based data ingestion and data warehouse tools is a strong plus\nSome experience with data modeling is expected.\n2+ years of experience working in a business context (technology consulting, systems integration, management consulting, working as an analyst “in industry,” etc.) – Big 5 Consulting or similar (e.g., Deloitte, Accenture, E&Y, KPMG, PwC, Slalom, etc.) background is highly desirable\nDemonstrated experience traversing from lower level details to executive level birds eye view on project progress, execution and deliverables\nRunning effective client meetings (setting context, establishing goals, capturing key decisions, managing scope changes, etc.)\nManaging scope and negotiating change requests\nStrong experience and familiarity with tools, templates and accelerators of different types pertaining to different stages of a project (e.g., project retrospective tools, Jira backlog boards, Quality Strategy templates, Functional design documents, etc.)\nExpert experience with tools like Jira and Confluence\nExceptional proficiency with project - and stakeholder-management theory and practices – demonstrated ability to proactively drive workstreams with minimal supervision, independently escalate and resolve issues, handle changes in technical direction, etc.\nCandidate must be local to Austin area."
        ],
        [
         "4",
         "Business Analyst",
         "Description\nWe are seeking a skilled Business Analyst to join our team. As a Business Analyst at our fast-growing organization, you will play a pivotal role in our operations and R&D teams. You will excel in data analysis using tools like Excel, Sheets, and other relevant software. Your proficiency in project management and financial modeling will drive accurate forecasting and planning, aiding critical decision-making processes. Leveraging your experience, you will execute a diverse range of operational and analytics tasks. Your collaborative nature will shine as you work closely with cross-functional teams to drive innovation and operational excellence.\nResponsibilities:\nAnalyze key business metrics and devise improvement plans\nUtilize Excel, Sheets, and other tools for comprehensive data analysis\nApply financial modeling expertise for accurate forecasting and planning\nManage projects efficiently, ensuring timely delivery and successful execution\nCollaborate with operations and R&D teams to provide actionable insights",
         "Benefits\nFood Allowance\nGovernment Benefits\n13th Month pay\nWork Equipment\nNight Differential if applicable (10% of hourly rate)\n20 Leaves (after 6 months)\nHoliday pay (200% on Regular holidays; 130% on Special holidays)\nOvertime pay (max of 10.25 hrs/day)\nReferral bonus (P10,000 if referral passed and stayed with the company for 3 months)\nHMO (after 6 months)",
         "Requirements\nBachelor's Degree in management or other related fields\nProficiency in Excel / Sheets for data analysis\nStrong project management skills\nTraining in financial modeling\nExperience in forecasting, planning, and project management\nExcellent analytical and problem-solving abilities\nMust be willing to work US business hours\nFlexibility in coverage – being able to support a wide array of personalities and leaders\nNice-to-have:\nExperience working in major consulting/accounting firms, BPOs, and/or banks\nExperience in virtual assistance or remote work\nExperience in a startup environment, US-based company, or other similarly fast-paced, highly demanding, high volume, dynamic environment",
         null,
         "Requirements\nBachelor's Degree in management or other related fields\nProficiency in Excel / Sheets for data analysis\nStrong project management skills\nTraining in financial modeling\nExperience in forecasting, planning, and project management\nExcellent analytical and problem-solving abilities\nMust be willing to work US business hours\nFlexibility in coverage – being able to support a wide array of personalities and leaders\nNice-to-have:\nExperience working in major consulting/accounting firms, BPOs, and/or banks\nExperience in virtual assistance or remote work\nExperience in a startup environment, US-based company, or other similarly fast-paced, highly demanding, high volume, dynamic environment"
        ]
       ],
       "shape": {
        "columns": 6,
        "rows": 5
       }
      },
      "text/html": [
       "<div>\n",
       "<style scoped>\n",
       "    .dataframe tbody tr th:only-of-type {\n",
       "        vertical-align: middle;\n",
       "    }\n",
       "\n",
       "    .dataframe tbody tr th {\n",
       "        vertical-align: top;\n",
       "    }\n",
       "\n",
       "    .dataframe thead th {\n",
       "        text-align: right;\n",
       "    }\n",
       "</style>\n",
       "<table border=\"1\" class=\"dataframe\">\n",
       "  <thead>\n",
       "    <tr style=\"text-align: right;\">\n",
       "      <th></th>\n",
       "      <th>Category</th>\n",
       "      <th>Description</th>\n",
       "      <th>Benefits</th>\n",
       "      <th>Requirement</th>\n",
       "      <th>Requirements</th>\n",
       "      <th>full_requirements</th>\n",
       "    </tr>\n",
       "  </thead>\n",
       "  <tbody>\n",
       "    <tr>\n",
       "      <th>0</th>\n",
       "      <td>Business Analyst</td>\n",
       "      <td>Description\\nJob Title: Junior Business Analys...</td>\n",
       "      <td>Benefits\\nMethods is passionate about its peop...</td>\n",
       "      <td>Requirements\\n• Confidence in communicating an...</td>\n",
       "      <td>NaN</td>\n",
       "      <td>Requirements\\n• Confidence in communicating an...</td>\n",
       "    </tr>\n",
       "    <tr>\n",
       "      <th>1</th>\n",
       "      <td>Business Analyst</td>\n",
       "      <td>Description\\nThe Business Analyst (BA) will ca...</td>\n",
       "      <td>Benefits\\nA competitive base salary\\nBonus sch...</td>\n",
       "      <td>Requirements\\nYou have…\\nA methodical approach...</td>\n",
       "      <td>NaN</td>\n",
       "      <td>Requirements\\nYou have…\\nA methodical approach...</td>\n",
       "    </tr>\n",
       "    <tr>\n",
       "      <th>2</th>\n",
       "      <td>Business Analyst</td>\n",
       "      <td>Description\\nWe help our clients design and de...</td>\n",
       "      <td>Benefits\\nWe have 2 promotion windows open eac...</td>\n",
       "      <td>Requirements\\nYou are open, curious, and excit...</td>\n",
       "      <td>NaN</td>\n",
       "      <td>Requirements\\nYou are open, curious, and excit...</td>\n",
       "    </tr>\n",
       "    <tr>\n",
       "      <th>3</th>\n",
       "      <td>Business Analyst</td>\n",
       "      <td>Description\\nFounded in 2015 and rapidly expan...</td>\n",
       "      <td>Benefits\\nIn addition to a competitive package...</td>\n",
       "      <td>Requirements\\nKey Responsibilities Include:\\nP...</td>\n",
       "      <td>NaN</td>\n",
       "      <td>Requirements\\nKey Responsibilities Include:\\nP...</td>\n",
       "    </tr>\n",
       "    <tr>\n",
       "      <th>4</th>\n",
       "      <td>Business Analyst</td>\n",
       "      <td>Description\\nWe are seeking a skilled Business...</td>\n",
       "      <td>Benefits\\nFood Allowance\\nGovernment Benefits\\...</td>\n",
       "      <td>Requirements\\nBachelor's Degree in management ...</td>\n",
       "      <td>NaN</td>\n",
       "      <td>Requirements\\nBachelor's Degree in management ...</td>\n",
       "    </tr>\n",
       "  </tbody>\n",
       "</table>\n",
       "</div>"
      ],
      "text/plain": [
       "           Category                                        Description  \\\n",
       "0  Business Analyst  Description\\nJob Title: Junior Business Analys...   \n",
       "1  Business Analyst  Description\\nThe Business Analyst (BA) will ca...   \n",
       "2  Business Analyst  Description\\nWe help our clients design and de...   \n",
       "3  Business Analyst  Description\\nFounded in 2015 and rapidly expan...   \n",
       "4  Business Analyst  Description\\nWe are seeking a skilled Business...   \n",
       "\n",
       "                                            Benefits  \\\n",
       "0  Benefits\\nMethods is passionate about its peop...   \n",
       "1  Benefits\\nA competitive base salary\\nBonus sch...   \n",
       "2  Benefits\\nWe have 2 promotion windows open eac...   \n",
       "3  Benefits\\nIn addition to a competitive package...   \n",
       "4  Benefits\\nFood Allowance\\nGovernment Benefits\\...   \n",
       "\n",
       "                                         Requirement Requirements  \\\n",
       "0  Requirements\\n• Confidence in communicating an...          NaN   \n",
       "1  Requirements\\nYou have…\\nA methodical approach...          NaN   \n",
       "2  Requirements\\nYou are open, curious, and excit...          NaN   \n",
       "3  Requirements\\nKey Responsibilities Include:\\nP...          NaN   \n",
       "4  Requirements\\nBachelor's Degree in management ...          NaN   \n",
       "\n",
       "                                   full_requirements  \n",
       "0  Requirements\\n• Confidence in communicating an...  \n",
       "1  Requirements\\nYou have…\\nA methodical approach...  \n",
       "2  Requirements\\nYou are open, curious, and excit...  \n",
       "3  Requirements\\nKey Responsibilities Include:\\nP...  \n",
       "4  Requirements\\nBachelor's Degree in management ...  "
      ]
     },
     "execution_count": 10,
     "metadata": {},
     "output_type": "execute_result"
    }
   ],
   "source": [
    "df2.head()"
   ]
  },
  {
   "cell_type": "code",
   "execution_count": 11,
   "id": "851ddeca",
   "metadata": {},
   "outputs": [],
   "source": [
    "df2.drop(columns=['Requirement', 'Requirements'], inplace=True)"
   ]
  },
  {
   "cell_type": "code",
   "execution_count": 12,
   "id": "9a9f3860",
   "metadata": {},
   "outputs": [
    {
     "data": {
      "application/vnd.microsoft.datawrangler.viewer.v0+json": {
       "columns": [
        {
         "name": "index",
         "rawType": "int64",
         "type": "integer"
        },
        {
         "name": "Category",
         "rawType": "object",
         "type": "string"
        },
        {
         "name": "Description",
         "rawType": "object",
         "type": "string"
        },
        {
         "name": "Benefits",
         "rawType": "object",
         "type": "string"
        },
        {
         "name": "full_requirements",
         "rawType": "object",
         "type": "string"
        }
       ],
       "ref": "58199b87-3aab-4dcf-9190-996e13ac833a",
       "rows": [
        [
         "0",
         "Business Analyst",
         "Description\nJob Title: Junior Business Analyst\nLocation: Home-based (This role will require regular UK travel and at times need you to stay away from home)\nStart Date: May (To be confirmed)\nMethods is a £100M+ IT Services Consultancy who has partnered with a range of central government departments and agencies to transform the way the public sector operates in the UK. Established over 30 years ago and UK-based, we apply our skills in transformation, delivery, and collaboration from across the Methods Group, to create end-to-end business and technical solutions that are people-centred, safe, and designed for the future.\nOur human touch sets us apart from other consultancies, system integrators and software houses - with people, technology, and data at the heart of who we are, we believe in creating value and sustainability through everything we do for our clients, staff, communities, and the planet.\nWe support our clients in the success of their projects while working collaboratively to share skill sets and solve problems. At Methods we have fun while working hard; we are not afraid of making mistakes and learning from them.\nPredominantly focused on the public-sector, Methods is now building a significant private sector client portfolio.\nMethods was acquired by the Alten Group in early 2022.\nAbout the role:\nThe Junior Business Analyst is an entry level role, focussed on rapidly developing the skills and behaviours needed to be successful as a consulting Business Analyst. Through a structured development programme, over the first six-months the role will be supported through the BCS Foundation Certification developing a baseline understanding of the core skills, tools and techniques. Alongside this there will be shadowing and opportunity to deliver small client assignments under supervision and supporting more senior Business Analysts in larger deliveries, to develop experience in the practical application of the core skills, tools and techniques. The post-holder will be expected to work across the Change & Innovation Portfolio with a clear progression pathway to becoming a SFIA3 Business Analyst. This will include responsibility for supporting clients to deliver change successfully by undertaking a variety of business analysis tasks working under supervision and in multi-disciplinary teams. These responsibilities include applying analytical and problem-solving tools to help assess situations and understand problems and elicit, analyse and validate business requirements and user stories, contributing to the successful delivery of client projects.\nSuccessful applicants will have an interest in the UK public services landscape and thirst for exploring different sectors. In addition to possessing good communication and engagement skills (written and verbal) they will have an interest in innovating with new techniques and technology to support the more efficient delivery of improved outcomes.\nThe role will be home based and will include some work on client sites. The Junior Business Analyst will initially focus on development of their career to be a Business Analyst, acquiring a detailed understanding of the wider Change and Innovation Portfolio offerings and develop a set of skills, competencies and knowledge to extend their contribution to other practices and their continued progression.\nWhat Methods offer is to you:\nProfessional development\n• A supported and structured Business Analysis development pathway for your early career\n• Funded BCS Foundation Certification\n• Lean Six-Sigma and Consultancy 101 training alongside LinkedIn Learning\n• Participate and contribute to Communities of Practice development\n• Maintain your own professional development plan\n• Identify and undertake relevant training\nWhat you will do:\n• Contribute to the successful delivery of projects through the application of learning and accessing of colleague knowledge and experience that adds value to our clients\n• Engage with clients to elicit information and analyse data sources to provide considered opinion\n• Support the analysis and understanding user and business needs, including where material is drawn from multiple sources\n• Support the mapping of processes and information flows into appropriate artefacts for communication with both stakeholders and the team\n• Translate user needs into system functionality requirements\n• Explore under direction, the internal and external situation and environment, eliciting and managing any non-functional requirement\n• Manage requirements through their life cycle, ensuring traceability and supporting prioritisation with stakeholders\n• Write clear and concise user stories with clear and testable acceptance criteria.\n• Support Methods colleagues and other resources as appropriate to achieve client outcomes, resolving issues and escalating where necessary\n• Manage mechanisms for knowledge transfer to client teams and foster collaboration across client and internal boundaries\n• Support the development of new products and services and evolve existing products and services in line with market knowledge and company capability\n• Support internal change projects by applying proportionate best practice approaches\n• Contribute to project-related internal case studies and lessons learnt and help maintain the portfolio and company knowledge base\n• Actively participate in relevant professional events to gain and share industry knowledge\n• Support other team members through knowledge sharing and buddying where appropriate\nAm I the right fit? We're looking for:\n• Resilience\n• Strong collaboration and team working\n• Commitment to learning and self-development\n• Good Communication skills\n• Genuine passion/commitment to improving public services\n• A determined and tenacious approach to work\n• A creative approach to problem solving\n• Good listening and comprehension\n• Great stakeholder management\nThe benefits of our BA academy\n• A supported and structured Business Analysis development pathway for your early career\n• Funded Business Analysis certifications\n• Autonomy to develop and grow your skills and experience\n• Be part of exciting project work that is making a difference in society\n• Strong, inspiring, and thought-provoking leadership\n• A supportive and collaborative environment",
         "Benefits\nMethods is passionate about its people; we want our colleagues to develop the things they are good at and enjoy.\nBy joining us you can expect:\n· Autonomy to develop and grow your skills and experience\n· Be part of exciting project work that is making a difference in society\n· Strong, inspiring, and thought-provoking leadership\n· A supportive and collaborative environment\nAs well as this we offer:\nDevelopment – access to LinkedIn Learning, a management development programme, and training\nWellness – 24/7 confidential employee assistance programme\nFlexible Working – including home working and part time\nSocial – office parties, breakfast Tuesdays, monthly pizza Thursdays, Thirsty Thursdays, and commitment to charitable causes\nTime Off – 25 days of annual leave a year, plus bank holidays, with the option to buy 10 extra days each year\nVolunteering – 2 paid days per year to volunteer in our local communities or within a charity organisation\nPension – Salary Exchange Scheme with 4% employer contribution and 5% employee contribution\nDiscretionary Company Bonus – based on company and individual performance\nLife Assurance – of 4 times base salary\nPrivate Medical Insurance – which is non-contributory (spouse and dependants included)\nWorldwide Travel Insurance – which is non-contributory (spouse and dependants included)\nEnhanced Maternity and Paternity Pay\nTravel – season ticket loan, cycle to work scheme\nFor a full list of benefits please visit our website (www.methods.co.uk/careers/benefits)",
         "Requirements\n• Confidence in communicating and engaging with different individuals and stakeholder groups\n• Good inter-personal skills, demonstrating the ability to relate to customers and other stakeholders in their own language\n• Ability to interpret and extract information from a variety of sources, and create well presented, accurate, concise documentation, demonstrating attention to detail\n• Excellent organisational/time management skills and the ability to work calmly and professionally at pace and under pressure\n• Understanding of the basic principles of programme, project management, business analysis and change methodologies\n• Ability to recognise team dynamics and how people work together\n• Ability to support an open and collaborative environment to work in, be flexible, adaptable\n• Aptitude for identifying innovative approaches to problem solving and/or devising inventive and creative solutions.\n• How to apply skills gained from existing qualifications to the consultancy environment\n• Ability to harvest, manage, analyse and manipulate data in a variety of formats\n• Ability to write clear, accessible and persuasive reports\n• Proficiency in the use of Microsoft Office suite\nDesirable skills and experience:\n• Knowledge / experience of the public sector\n• Knowledge experience of project environments\n• Knowledge / experience of how Businesses operate (academic or experience)"
        ],
        [
         "1",
         "Business Analyst",
         "Description\nThe Business Analyst (BA) will capture client requirements for configuration of our product, in accordance with the company vision, and ensure that implementation is in line with best practices.\nThey will strengthen stakeholders’ relationships by delivering our product to our customers whilst executing to the purple standard.\nWorking within a fast-growing team will offer several technical and professional challenges with rewarding outcomes.\n\nKey accountabilities\nBridging the gap between customer and product\nAssisting in the effective delivery of multiple projects by understanding the client’s requirements, systems and processes\nAssisting with the onboarding of partners to our platform, providing support for testing and ad hoc question throughout\nAssisting with the delivery of national brand campaigns\nAssisting with the ongoing client relationship to drive satisfaction\nCapturing, documenting and clearly articulating client requirements, designing the solution, documenting and obtaining sign off\nAttending client site to act as pre-sales when required\nSupporting the Eagle Eye PM to ensure that projects are delivered on time and to budget\nWriting and collating user stories and continuing to manage the user stories through to delivery\nSupporting the client by raising and triaging issues with the QA team during the user acceptance testing process\nEscalating critical issues to the PM\nParticipating in technical design reviews and workshops\nDeveloping positive and productive relationships internally with Delivery, Product and Technical Support, and externally with customers, external partners and service providers\nProviding support to the department during the onboarding of major new clients, product road map development, new product releases, service upgrades and changes driven by new and existing customer requirements\nDeveloping a strong technical understanding of our own and client’s systems",
         "Benefits\nA competitive base salary\nBonus scheme with potential to earn up to 10% of salary dependant on your own personal behaviours, achievement of goals and company revenue targets\nFlexibility to work from home or various office locations and flexible hours or job shares considered\nGenerous annual leave package including:\n25 days paid annual leave\n5 days paid sick leave which if unused gets added to your annual leave the next year\nContributory pension\nSupport in continuous learning and self-development\nSimplyhealth scheme including:\nHealth care cash back\n24 hour access to virtual doctors appointments\n24 hour employee assistance programme 24 hour employee assistance programme\nAccess to the paid Headspace app subscription\nMental Health First Aiders to support employee’s mental wellbeing\nEmployee Resource Groups focussed on underrepresented groups in Eagle Eye, including Purple Women\nCharity Committee committed to organising events throughout the year to raise money for those less privileged\nCycle to work salary sacrifice scheme (via CycleScheme)\nElectric vehicle salary sacrifice scheme (via Octopus)\nA friendly, fun, growing team of people who work hard but love to play hard too, with location specific Christmas parties and annual whole company get together hosted in the UK",
         "Requirements\nYou have…\nA methodical approach to documentation\nThe ability to manage multiple tasks and see them through to completion\nExceptional communication skills, both verbal & written\nThe ability to manage own time and prioritise accordingly to deliver for internal and external parties to tight deadlines\nExcellent problem-solving skills, and the ability to think on your feet to meet requirements under pressure\nKnowledge of API-driven and SaaS-based technology solutions (desirable)\nKnowledge of POS systems (desirable)\nBusiness related or any similar professional qualification / any software development qualification (desirable)\nYou are…\nAlways encouraging continuous improvement\nCommercially astute\nAble to work autonomously\nProactive\nInfluential\nAchievement driven\nAdaptable\nCustomer focussed\nRelentless in hunting out inefficiencies\nDecisive\nAn excellent relationship builder"
        ],
        [
         "2",
         "Business Analyst",
         "Description\nWe help our clients design and deliver digital, technology and organisational transformation - solving real problems for real people.\nThis is a fantastic opportunity to make a difference on a range of exciting and meaningful government projects that will transform public services and join the growing business analyst community within Farsight Consulting.\nWe primarily work in the public sector, supporting initiatives that improve society and the lives of citizens; with not-for-profit organisations, charities and social enterprises; and with some private-sector companies.\nWe are looking for practitioners interested in developing careers as business analysts. This will involve working in a digital team to define, improve and deliver innovative digital solutions.\nWhether you have just started building your career as a BA, or have a few years of experience in research or analysis in a different field, this role would be perfect for you.",
         "Benefits\nWe have 2 promotion windows open each year so you can progress through the company.\nMore about our company benefits\n29 days holiday and Bank Holidays off\nBlended working model that enables the team to work from home, client site and in the office.\nFlexible working around our core hours of 10am to 4pm.\nPension, we pay 5% into your pension and you pay 3%.\nDeath in service benefit of four times your salary.\nA discount on gym membership and access to the BUPA Employee Assistance Programme.\nEnhanced sick pay, maternity, paternity, and adoption pay.\nRegular socials, a Workspace office in central London and an open and supportive culture.\nHealthcare Plan - 'Smart Health' through AIG\nThis is a UK based role. We offer a Hybrid working model - happy to discuss flexibility/remote arrangements.\nFarsight Consulting is committed to providing equal opportunities and creating a diverse & inclusive place of work where everyone feels welcome.",
         "Requirements\nYou are open, curious, and excited about making a difference during this exciting period of growth. Some of the things we look for include.\nWorking understanding of the principles of Agile, the roles within an Agile team and the value a BA brings\nA business analyst who can work in a range of agile digital delivery life stages\nWork closely with stakeholders to identify goals, define areas to add value, develop roadmaps and prioritise features\nGather and interpret complex information from a range of sources to provide recommendations\nApplication of frameworks and different methodologies to understand, break down, and articulate the problem space to identify potential solutions\nUsing a hypothesis-driven approach to test ideas out, fail fast and iterate thinking\nDevelopment of process maps to support an understanding of the current process to inform solution thinking\nEliciting, defining and managing user stories, requirements and acceptance criteria on Agile projects\nInterpreting and discussing solution designs with Solution Architects, and in turn, effectively communicating their benefits and drawbacks to business\nAdvising clients on how to develop and report against KPIs for new digital developments and improvements to existing digital services."
        ],
        [
         "3",
         "Business Analyst",
         "Description\nFounded in 2015 and rapidly expanding, Fresh Gravity (www.freshgravity.com) is an exciting business and technology consulting company that is at the cutting edge of digital transformation. We drive digital success for our clients by enabling them to adopt transformative technologies. We provide a range of services: from Data Management, Data Science & Analytics, to API Management/Integration and Artificial Intelligence.\nIn a short time, we have crafted an exceptional team who have delivered impactful projects for some of the largest corporations in the world. We are on a mission to solve the most complex business problems for our clients using the most exciting new technologies. And we are looking for top talent to join us in our quest.\nFresh Gravity’s team members are authorities in their field, but know how to have fun, too. We’re building an inspiring, open organization you’ll take pride in. We challenge ourselves to grow – every day. We create value for our clients and partners – every day. We promise rich opportunities for you to succeed, to shine, to exceed even your own expectations.\nWe are thoughtful. We are engaged. We are relentless. We are Fresh Gravity.\nFresh Gravity is an equal opportunity employer.\n\nWe are seeking a strong techno-functional business analyst who will be responsible for driving successful project outcomes for Fresh Gravity’s clients. The role entails delivery involvement of data management solution projects with key inputs on the solution options, implementation approaches, delivery planning and execution. The person will be responsible for assisting and developing proposals for such engagements as well as negotiating delivery related actions through the life of a project. In addition, the person will be responsible for working with other Fresh Gravity stakeholders to define and refine delivery methodology artifacts and approaches, design and implement data management project execution best practices, develop sales and marketing collateral as well as represent Fresh Gravity at client or other public events. Someone who is looking for a niche consulting firm with an excellent culture with the desire to grow as the company grows would make a great candidate.",
         "Benefits\nIn addition to a competitive package, we promise rich opportunities for you to succeed, to shine, to exceed even your own expectations. In keeping with Fresh Gravity’s challenger ethos, we have developed the 5Dimensions (5D) benefits program. This program recognizes the multiple dimensions within each of us and seek to provide opportunities for deep development across these dimensions. Enrich Myself; Enhance My Client; Build my Company, Nurture My Family; and Better Humanity.",
         "Requirements\nKey Responsibilities Include:\nParticipate in the full delivery lifecycle of strategy and implementation projects for our clients using agile and hybrid project management approaches.\nPlan workstreams, identify, report and manage/mitigate risks, manage resolution of outstanding issues and actions,\nParticipate in strategy/roadmap initiatives while aligning the strategy to the business objectives, including helping establish organization constructs, development methodologies and selection of technology components (e.g., API gateways, code repository tools, data quality tools, data management/governance strategy, etc.)\nPlan, lead and manage requirements definition and solution design working sessions in addition to documenting functional use cases and architectures, business requirements, and high level business solution approaches\nResearch market trends and technology articles, propose strategic direction ideas, best practices, gathering current state information through stakeholder interaction using interviews / workshops\nCommunicate business requirements to architects and developers, assist in conducting feasibility assessments and identify optimal approaches to technically achieve the business requirements (e.g., Assist Sr. Technical Architects and leads on a data platform implementation)\nDefine and influence direction of organization constructs and technology management methodology change with organizations (e.g., define data governance frameworks on a data governance strategy assessment project)\nOwn the delivery of demos to our clients of working software built to specification and soliciting feedback to ensure satisfaction of business requirements (e.g., demonstrate data stewardship functionality on an MDM project)\nVerify the development artifacts/software are built to specification through various levels of testing\nOther:\nAssist in responding to RFPs by participating in planning, scoping, solution definition and estimation\nManage client and vendor partner relationships and activities to ensure alignment of schedule, scope, and responsibilities\nSupport and contribute to an evolving project delivery methodology by designing and creating templates, accelerators and reusable artifacts.\nSkills and Qualification Requirements\nBachelors or Masters (preferred) degree in a technology or project management discipline\n6 to 8 years of business system analysis and functional architecture experience\nStrong knowledge of Master Data Management is required, and domain knowledge in Life Sciences and Healthcare is a plus\nShould have participated in at least 1-2 Master Data Management implementation projects\nKnowledge of cloud-based data ingestion and data warehouse tools is a strong plus\nSome experience with data modeling is expected.\n2+ years of experience working in a business context (technology consulting, systems integration, management consulting, working as an analyst “in industry,” etc.) – Big 5 Consulting or similar (e.g., Deloitte, Accenture, E&Y, KPMG, PwC, Slalom, etc.) background is highly desirable\nDemonstrated experience traversing from lower level details to executive level birds eye view on project progress, execution and deliverables\nRunning effective client meetings (setting context, establishing goals, capturing key decisions, managing scope changes, etc.)\nManaging scope and negotiating change requests\nStrong experience and familiarity with tools, templates and accelerators of different types pertaining to different stages of a project (e.g., project retrospective tools, Jira backlog boards, Quality Strategy templates, Functional design documents, etc.)\nExpert experience with tools like Jira and Confluence\nExceptional proficiency with project - and stakeholder-management theory and practices – demonstrated ability to proactively drive workstreams with minimal supervision, independently escalate and resolve issues, handle changes in technical direction, etc.\nCandidate must be local to Austin area."
        ],
        [
         "4",
         "Business Analyst",
         "Description\nWe are seeking a skilled Business Analyst to join our team. As a Business Analyst at our fast-growing organization, you will play a pivotal role in our operations and R&D teams. You will excel in data analysis using tools like Excel, Sheets, and other relevant software. Your proficiency in project management and financial modeling will drive accurate forecasting and planning, aiding critical decision-making processes. Leveraging your experience, you will execute a diverse range of operational and analytics tasks. Your collaborative nature will shine as you work closely with cross-functional teams to drive innovation and operational excellence.\nResponsibilities:\nAnalyze key business metrics and devise improvement plans\nUtilize Excel, Sheets, and other tools for comprehensive data analysis\nApply financial modeling expertise for accurate forecasting and planning\nManage projects efficiently, ensuring timely delivery and successful execution\nCollaborate with operations and R&D teams to provide actionable insights",
         "Benefits\nFood Allowance\nGovernment Benefits\n13th Month pay\nWork Equipment\nNight Differential if applicable (10% of hourly rate)\n20 Leaves (after 6 months)\nHoliday pay (200% on Regular holidays; 130% on Special holidays)\nOvertime pay (max of 10.25 hrs/day)\nReferral bonus (P10,000 if referral passed and stayed with the company for 3 months)\nHMO (after 6 months)",
         "Requirements\nBachelor's Degree in management or other related fields\nProficiency in Excel / Sheets for data analysis\nStrong project management skills\nTraining in financial modeling\nExperience in forecasting, planning, and project management\nExcellent analytical and problem-solving abilities\nMust be willing to work US business hours\nFlexibility in coverage – being able to support a wide array of personalities and leaders\nNice-to-have:\nExperience working in major consulting/accounting firms, BPOs, and/or banks\nExperience in virtual assistance or remote work\nExperience in a startup environment, US-based company, or other similarly fast-paced, highly demanding, high volume, dynamic environment"
        ]
       ],
       "shape": {
        "columns": 4,
        "rows": 5
       }
      },
      "text/html": [
       "<div>\n",
       "<style scoped>\n",
       "    .dataframe tbody tr th:only-of-type {\n",
       "        vertical-align: middle;\n",
       "    }\n",
       "\n",
       "    .dataframe tbody tr th {\n",
       "        vertical-align: top;\n",
       "    }\n",
       "\n",
       "    .dataframe thead th {\n",
       "        text-align: right;\n",
       "    }\n",
       "</style>\n",
       "<table border=\"1\" class=\"dataframe\">\n",
       "  <thead>\n",
       "    <tr style=\"text-align: right;\">\n",
       "      <th></th>\n",
       "      <th>Category</th>\n",
       "      <th>Description</th>\n",
       "      <th>Benefits</th>\n",
       "      <th>full_requirements</th>\n",
       "    </tr>\n",
       "  </thead>\n",
       "  <tbody>\n",
       "    <tr>\n",
       "      <th>0</th>\n",
       "      <td>Business Analyst</td>\n",
       "      <td>Description\\nJob Title: Junior Business Analys...</td>\n",
       "      <td>Benefits\\nMethods is passionate about its peop...</td>\n",
       "      <td>Requirements\\n• Confidence in communicating an...</td>\n",
       "    </tr>\n",
       "    <tr>\n",
       "      <th>1</th>\n",
       "      <td>Business Analyst</td>\n",
       "      <td>Description\\nThe Business Analyst (BA) will ca...</td>\n",
       "      <td>Benefits\\nA competitive base salary\\nBonus sch...</td>\n",
       "      <td>Requirements\\nYou have…\\nA methodical approach...</td>\n",
       "    </tr>\n",
       "    <tr>\n",
       "      <th>2</th>\n",
       "      <td>Business Analyst</td>\n",
       "      <td>Description\\nWe help our clients design and de...</td>\n",
       "      <td>Benefits\\nWe have 2 promotion windows open eac...</td>\n",
       "      <td>Requirements\\nYou are open, curious, and excit...</td>\n",
       "    </tr>\n",
       "    <tr>\n",
       "      <th>3</th>\n",
       "      <td>Business Analyst</td>\n",
       "      <td>Description\\nFounded in 2015 and rapidly expan...</td>\n",
       "      <td>Benefits\\nIn addition to a competitive package...</td>\n",
       "      <td>Requirements\\nKey Responsibilities Include:\\nP...</td>\n",
       "    </tr>\n",
       "    <tr>\n",
       "      <th>4</th>\n",
       "      <td>Business Analyst</td>\n",
       "      <td>Description\\nWe are seeking a skilled Business...</td>\n",
       "      <td>Benefits\\nFood Allowance\\nGovernment Benefits\\...</td>\n",
       "      <td>Requirements\\nBachelor's Degree in management ...</td>\n",
       "    </tr>\n",
       "  </tbody>\n",
       "</table>\n",
       "</div>"
      ],
      "text/plain": [
       "           Category                                        Description  \\\n",
       "0  Business Analyst  Description\\nJob Title: Junior Business Analys...   \n",
       "1  Business Analyst  Description\\nThe Business Analyst (BA) will ca...   \n",
       "2  Business Analyst  Description\\nWe help our clients design and de...   \n",
       "3  Business Analyst  Description\\nFounded in 2015 and rapidly expan...   \n",
       "4  Business Analyst  Description\\nWe are seeking a skilled Business...   \n",
       "\n",
       "                                            Benefits  \\\n",
       "0  Benefits\\nMethods is passionate about its peop...   \n",
       "1  Benefits\\nA competitive base salary\\nBonus sch...   \n",
       "2  Benefits\\nWe have 2 promotion windows open eac...   \n",
       "3  Benefits\\nIn addition to a competitive package...   \n",
       "4  Benefits\\nFood Allowance\\nGovernment Benefits\\...   \n",
       "\n",
       "                                   full_requirements  \n",
       "0  Requirements\\n• Confidence in communicating an...  \n",
       "1  Requirements\\nYou have…\\nA methodical approach...  \n",
       "2  Requirements\\nYou are open, curious, and excit...  \n",
       "3  Requirements\\nKey Responsibilities Include:\\nP...  \n",
       "4  Requirements\\nBachelor's Degree in management ...  "
      ]
     },
     "execution_count": 12,
     "metadata": {},
     "output_type": "execute_result"
    }
   ],
   "source": [
    "df2.head()"
   ]
  },
  {
   "cell_type": "code",
   "execution_count": 13,
   "id": "834dad13",
   "metadata": {},
   "outputs": [
    {
     "data": {
      "text/plain": [
       "np.int64(112)"
      ]
     },
     "execution_count": 13,
     "metadata": {},
     "output_type": "execute_result"
    }
   ],
   "source": [
    "df2.duplicated().sum()"
   ]
  },
  {
   "cell_type": "code",
   "execution_count": 14,
   "id": "204adbb5",
   "metadata": {},
   "outputs": [],
   "source": [
    "df2.drop_duplicates(inplace=True)"
   ]
  },
  {
   "cell_type": "code",
   "execution_count": 15,
   "id": "a537df15",
   "metadata": {},
   "outputs": [
    {
     "data": {
      "application/vnd.microsoft.datawrangler.viewer.v0+json": {
       "columns": [
        {
         "name": "index",
         "rawType": "int64",
         "type": "integer"
        },
        {
         "name": "Category",
         "rawType": "object",
         "type": "string"
        },
        {
         "name": "Description",
         "rawType": "object",
         "type": "string"
        },
        {
         "name": "Benefits",
         "rawType": "object",
         "type": "string"
        },
        {
         "name": "full_requirements",
         "rawType": "object",
         "type": "string"
        }
       ],
       "ref": "151348f2-40b0-4799-ad4e-4e9c23ce0d02",
       "rows": [
        [
         "0",
         "Business Analyst",
         "Description\nJob Title: Junior Business Analyst\nLocation: Home-based (This role will require regular UK travel and at times need you to stay away from home)\nStart Date: May (To be confirmed)\nMethods is a £100M+ IT Services Consultancy who has partnered with a range of central government departments and agencies to transform the way the public sector operates in the UK. Established over 30 years ago and UK-based, we apply our skills in transformation, delivery, and collaboration from across the Methods Group, to create end-to-end business and technical solutions that are people-centred, safe, and designed for the future.\nOur human touch sets us apart from other consultancies, system integrators and software houses - with people, technology, and data at the heart of who we are, we believe in creating value and sustainability through everything we do for our clients, staff, communities, and the planet.\nWe support our clients in the success of their projects while working collaboratively to share skill sets and solve problems. At Methods we have fun while working hard; we are not afraid of making mistakes and learning from them.\nPredominantly focused on the public-sector, Methods is now building a significant private sector client portfolio.\nMethods was acquired by the Alten Group in early 2022.\nAbout the role:\nThe Junior Business Analyst is an entry level role, focussed on rapidly developing the skills and behaviours needed to be successful as a consulting Business Analyst. Through a structured development programme, over the first six-months the role will be supported through the BCS Foundation Certification developing a baseline understanding of the core skills, tools and techniques. Alongside this there will be shadowing and opportunity to deliver small client assignments under supervision and supporting more senior Business Analysts in larger deliveries, to develop experience in the practical application of the core skills, tools and techniques. The post-holder will be expected to work across the Change & Innovation Portfolio with a clear progression pathway to becoming a SFIA3 Business Analyst. This will include responsibility for supporting clients to deliver change successfully by undertaking a variety of business analysis tasks working under supervision and in multi-disciplinary teams. These responsibilities include applying analytical and problem-solving tools to help assess situations and understand problems and elicit, analyse and validate business requirements and user stories, contributing to the successful delivery of client projects.\nSuccessful applicants will have an interest in the UK public services landscape and thirst for exploring different sectors. In addition to possessing good communication and engagement skills (written and verbal) they will have an interest in innovating with new techniques and technology to support the more efficient delivery of improved outcomes.\nThe role will be home based and will include some work on client sites. The Junior Business Analyst will initially focus on development of their career to be a Business Analyst, acquiring a detailed understanding of the wider Change and Innovation Portfolio offerings and develop a set of skills, competencies and knowledge to extend their contribution to other practices and their continued progression.\nWhat Methods offer is to you:\nProfessional development\n• A supported and structured Business Analysis development pathway for your early career\n• Funded BCS Foundation Certification\n• Lean Six-Sigma and Consultancy 101 training alongside LinkedIn Learning\n• Participate and contribute to Communities of Practice development\n• Maintain your own professional development plan\n• Identify and undertake relevant training\nWhat you will do:\n• Contribute to the successful delivery of projects through the application of learning and accessing of colleague knowledge and experience that adds value to our clients\n• Engage with clients to elicit information and analyse data sources to provide considered opinion\n• Support the analysis and understanding user and business needs, including where material is drawn from multiple sources\n• Support the mapping of processes and information flows into appropriate artefacts for communication with both stakeholders and the team\n• Translate user needs into system functionality requirements\n• Explore under direction, the internal and external situation and environment, eliciting and managing any non-functional requirement\n• Manage requirements through their life cycle, ensuring traceability and supporting prioritisation with stakeholders\n• Write clear and concise user stories with clear and testable acceptance criteria.\n• Support Methods colleagues and other resources as appropriate to achieve client outcomes, resolving issues and escalating where necessary\n• Manage mechanisms for knowledge transfer to client teams and foster collaboration across client and internal boundaries\n• Support the development of new products and services and evolve existing products and services in line with market knowledge and company capability\n• Support internal change projects by applying proportionate best practice approaches\n• Contribute to project-related internal case studies and lessons learnt and help maintain the portfolio and company knowledge base\n• Actively participate in relevant professional events to gain and share industry knowledge\n• Support other team members through knowledge sharing and buddying where appropriate\nAm I the right fit? We're looking for:\n• Resilience\n• Strong collaboration and team working\n• Commitment to learning and self-development\n• Good Communication skills\n• Genuine passion/commitment to improving public services\n• A determined and tenacious approach to work\n• A creative approach to problem solving\n• Good listening and comprehension\n• Great stakeholder management\nThe benefits of our BA academy\n• A supported and structured Business Analysis development pathway for your early career\n• Funded Business Analysis certifications\n• Autonomy to develop and grow your skills and experience\n• Be part of exciting project work that is making a difference in society\n• Strong, inspiring, and thought-provoking leadership\n• A supportive and collaborative environment",
         "Benefits\nMethods is passionate about its people; we want our colleagues to develop the things they are good at and enjoy.\nBy joining us you can expect:\n· Autonomy to develop and grow your skills and experience\n· Be part of exciting project work that is making a difference in society\n· Strong, inspiring, and thought-provoking leadership\n· A supportive and collaborative environment\nAs well as this we offer:\nDevelopment – access to LinkedIn Learning, a management development programme, and training\nWellness – 24/7 confidential employee assistance programme\nFlexible Working – including home working and part time\nSocial – office parties, breakfast Tuesdays, monthly pizza Thursdays, Thirsty Thursdays, and commitment to charitable causes\nTime Off – 25 days of annual leave a year, plus bank holidays, with the option to buy 10 extra days each year\nVolunteering – 2 paid days per year to volunteer in our local communities or within a charity organisation\nPension – Salary Exchange Scheme with 4% employer contribution and 5% employee contribution\nDiscretionary Company Bonus – based on company and individual performance\nLife Assurance – of 4 times base salary\nPrivate Medical Insurance – which is non-contributory (spouse and dependants included)\nWorldwide Travel Insurance – which is non-contributory (spouse and dependants included)\nEnhanced Maternity and Paternity Pay\nTravel – season ticket loan, cycle to work scheme\nFor a full list of benefits please visit our website (www.methods.co.uk/careers/benefits)",
         "Requirements\n• Confidence in communicating and engaging with different individuals and stakeholder groups\n• Good inter-personal skills, demonstrating the ability to relate to customers and other stakeholders in their own language\n• Ability to interpret and extract information from a variety of sources, and create well presented, accurate, concise documentation, demonstrating attention to detail\n• Excellent organisational/time management skills and the ability to work calmly and professionally at pace and under pressure\n• Understanding of the basic principles of programme, project management, business analysis and change methodologies\n• Ability to recognise team dynamics and how people work together\n• Ability to support an open and collaborative environment to work in, be flexible, adaptable\n• Aptitude for identifying innovative approaches to problem solving and/or devising inventive and creative solutions.\n• How to apply skills gained from existing qualifications to the consultancy environment\n• Ability to harvest, manage, analyse and manipulate data in a variety of formats\n• Ability to write clear, accessible and persuasive reports\n• Proficiency in the use of Microsoft Office suite\nDesirable skills and experience:\n• Knowledge / experience of the public sector\n• Knowledge experience of project environments\n• Knowledge / experience of how Businesses operate (academic or experience)"
        ],
        [
         "1",
         "Business Analyst",
         "Description\nThe Business Analyst (BA) will capture client requirements for configuration of our product, in accordance with the company vision, and ensure that implementation is in line with best practices.\nThey will strengthen stakeholders’ relationships by delivering our product to our customers whilst executing to the purple standard.\nWorking within a fast-growing team will offer several technical and professional challenges with rewarding outcomes.\n\nKey accountabilities\nBridging the gap between customer and product\nAssisting in the effective delivery of multiple projects by understanding the client’s requirements, systems and processes\nAssisting with the onboarding of partners to our platform, providing support for testing and ad hoc question throughout\nAssisting with the delivery of national brand campaigns\nAssisting with the ongoing client relationship to drive satisfaction\nCapturing, documenting and clearly articulating client requirements, designing the solution, documenting and obtaining sign off\nAttending client site to act as pre-sales when required\nSupporting the Eagle Eye PM to ensure that projects are delivered on time and to budget\nWriting and collating user stories and continuing to manage the user stories through to delivery\nSupporting the client by raising and triaging issues with the QA team during the user acceptance testing process\nEscalating critical issues to the PM\nParticipating in technical design reviews and workshops\nDeveloping positive and productive relationships internally with Delivery, Product and Technical Support, and externally with customers, external partners and service providers\nProviding support to the department during the onboarding of major new clients, product road map development, new product releases, service upgrades and changes driven by new and existing customer requirements\nDeveloping a strong technical understanding of our own and client’s systems",
         "Benefits\nA competitive base salary\nBonus scheme with potential to earn up to 10% of salary dependant on your own personal behaviours, achievement of goals and company revenue targets\nFlexibility to work from home or various office locations and flexible hours or job shares considered\nGenerous annual leave package including:\n25 days paid annual leave\n5 days paid sick leave which if unused gets added to your annual leave the next year\nContributory pension\nSupport in continuous learning and self-development\nSimplyhealth scheme including:\nHealth care cash back\n24 hour access to virtual doctors appointments\n24 hour employee assistance programme 24 hour employee assistance programme\nAccess to the paid Headspace app subscription\nMental Health First Aiders to support employee’s mental wellbeing\nEmployee Resource Groups focussed on underrepresented groups in Eagle Eye, including Purple Women\nCharity Committee committed to organising events throughout the year to raise money for those less privileged\nCycle to work salary sacrifice scheme (via CycleScheme)\nElectric vehicle salary sacrifice scheme (via Octopus)\nA friendly, fun, growing team of people who work hard but love to play hard too, with location specific Christmas parties and annual whole company get together hosted in the UK",
         "Requirements\nYou have…\nA methodical approach to documentation\nThe ability to manage multiple tasks and see them through to completion\nExceptional communication skills, both verbal & written\nThe ability to manage own time and prioritise accordingly to deliver for internal and external parties to tight deadlines\nExcellent problem-solving skills, and the ability to think on your feet to meet requirements under pressure\nKnowledge of API-driven and SaaS-based technology solutions (desirable)\nKnowledge of POS systems (desirable)\nBusiness related or any similar professional qualification / any software development qualification (desirable)\nYou are…\nAlways encouraging continuous improvement\nCommercially astute\nAble to work autonomously\nProactive\nInfluential\nAchievement driven\nAdaptable\nCustomer focussed\nRelentless in hunting out inefficiencies\nDecisive\nAn excellent relationship builder"
        ],
        [
         "2",
         "Business Analyst",
         "Description\nWe help our clients design and deliver digital, technology and organisational transformation - solving real problems for real people.\nThis is a fantastic opportunity to make a difference on a range of exciting and meaningful government projects that will transform public services and join the growing business analyst community within Farsight Consulting.\nWe primarily work in the public sector, supporting initiatives that improve society and the lives of citizens; with not-for-profit organisations, charities and social enterprises; and with some private-sector companies.\nWe are looking for practitioners interested in developing careers as business analysts. This will involve working in a digital team to define, improve and deliver innovative digital solutions.\nWhether you have just started building your career as a BA, or have a few years of experience in research or analysis in a different field, this role would be perfect for you.",
         "Benefits\nWe have 2 promotion windows open each year so you can progress through the company.\nMore about our company benefits\n29 days holiday and Bank Holidays off\nBlended working model that enables the team to work from home, client site and in the office.\nFlexible working around our core hours of 10am to 4pm.\nPension, we pay 5% into your pension and you pay 3%.\nDeath in service benefit of four times your salary.\nA discount on gym membership and access to the BUPA Employee Assistance Programme.\nEnhanced sick pay, maternity, paternity, and adoption pay.\nRegular socials, a Workspace office in central London and an open and supportive culture.\nHealthcare Plan - 'Smart Health' through AIG\nThis is a UK based role. We offer a Hybrid working model - happy to discuss flexibility/remote arrangements.\nFarsight Consulting is committed to providing equal opportunities and creating a diverse & inclusive place of work where everyone feels welcome.",
         "Requirements\nYou are open, curious, and excited about making a difference during this exciting period of growth. Some of the things we look for include.\nWorking understanding of the principles of Agile, the roles within an Agile team and the value a BA brings\nA business analyst who can work in a range of agile digital delivery life stages\nWork closely with stakeholders to identify goals, define areas to add value, develop roadmaps and prioritise features\nGather and interpret complex information from a range of sources to provide recommendations\nApplication of frameworks and different methodologies to understand, break down, and articulate the problem space to identify potential solutions\nUsing a hypothesis-driven approach to test ideas out, fail fast and iterate thinking\nDevelopment of process maps to support an understanding of the current process to inform solution thinking\nEliciting, defining and managing user stories, requirements and acceptance criteria on Agile projects\nInterpreting and discussing solution designs with Solution Architects, and in turn, effectively communicating their benefits and drawbacks to business\nAdvising clients on how to develop and report against KPIs for new digital developments and improvements to existing digital services."
        ],
        [
         "3",
         "Business Analyst",
         "Description\nFounded in 2015 and rapidly expanding, Fresh Gravity (www.freshgravity.com) is an exciting business and technology consulting company that is at the cutting edge of digital transformation. We drive digital success for our clients by enabling them to adopt transformative technologies. We provide a range of services: from Data Management, Data Science & Analytics, to API Management/Integration and Artificial Intelligence.\nIn a short time, we have crafted an exceptional team who have delivered impactful projects for some of the largest corporations in the world. We are on a mission to solve the most complex business problems for our clients using the most exciting new technologies. And we are looking for top talent to join us in our quest.\nFresh Gravity’s team members are authorities in their field, but know how to have fun, too. We’re building an inspiring, open organization you’ll take pride in. We challenge ourselves to grow – every day. We create value for our clients and partners – every day. We promise rich opportunities for you to succeed, to shine, to exceed even your own expectations.\nWe are thoughtful. We are engaged. We are relentless. We are Fresh Gravity.\nFresh Gravity is an equal opportunity employer.\n\nWe are seeking a strong techno-functional business analyst who will be responsible for driving successful project outcomes for Fresh Gravity’s clients. The role entails delivery involvement of data management solution projects with key inputs on the solution options, implementation approaches, delivery planning and execution. The person will be responsible for assisting and developing proposals for such engagements as well as negotiating delivery related actions through the life of a project. In addition, the person will be responsible for working with other Fresh Gravity stakeholders to define and refine delivery methodology artifacts and approaches, design and implement data management project execution best practices, develop sales and marketing collateral as well as represent Fresh Gravity at client or other public events. Someone who is looking for a niche consulting firm with an excellent culture with the desire to grow as the company grows would make a great candidate.",
         "Benefits\nIn addition to a competitive package, we promise rich opportunities for you to succeed, to shine, to exceed even your own expectations. In keeping with Fresh Gravity’s challenger ethos, we have developed the 5Dimensions (5D) benefits program. This program recognizes the multiple dimensions within each of us and seek to provide opportunities for deep development across these dimensions. Enrich Myself; Enhance My Client; Build my Company, Nurture My Family; and Better Humanity.",
         "Requirements\nKey Responsibilities Include:\nParticipate in the full delivery lifecycle of strategy and implementation projects for our clients using agile and hybrid project management approaches.\nPlan workstreams, identify, report and manage/mitigate risks, manage resolution of outstanding issues and actions,\nParticipate in strategy/roadmap initiatives while aligning the strategy to the business objectives, including helping establish organization constructs, development methodologies and selection of technology components (e.g., API gateways, code repository tools, data quality tools, data management/governance strategy, etc.)\nPlan, lead and manage requirements definition and solution design working sessions in addition to documenting functional use cases and architectures, business requirements, and high level business solution approaches\nResearch market trends and technology articles, propose strategic direction ideas, best practices, gathering current state information through stakeholder interaction using interviews / workshops\nCommunicate business requirements to architects and developers, assist in conducting feasibility assessments and identify optimal approaches to technically achieve the business requirements (e.g., Assist Sr. Technical Architects and leads on a data platform implementation)\nDefine and influence direction of organization constructs and technology management methodology change with organizations (e.g., define data governance frameworks on a data governance strategy assessment project)\nOwn the delivery of demos to our clients of working software built to specification and soliciting feedback to ensure satisfaction of business requirements (e.g., demonstrate data stewardship functionality on an MDM project)\nVerify the development artifacts/software are built to specification through various levels of testing\nOther:\nAssist in responding to RFPs by participating in planning, scoping, solution definition and estimation\nManage client and vendor partner relationships and activities to ensure alignment of schedule, scope, and responsibilities\nSupport and contribute to an evolving project delivery methodology by designing and creating templates, accelerators and reusable artifacts.\nSkills and Qualification Requirements\nBachelors or Masters (preferred) degree in a technology or project management discipline\n6 to 8 years of business system analysis and functional architecture experience\nStrong knowledge of Master Data Management is required, and domain knowledge in Life Sciences and Healthcare is a plus\nShould have participated in at least 1-2 Master Data Management implementation projects\nKnowledge of cloud-based data ingestion and data warehouse tools is a strong plus\nSome experience with data modeling is expected.\n2+ years of experience working in a business context (technology consulting, systems integration, management consulting, working as an analyst “in industry,” etc.) – Big 5 Consulting or similar (e.g., Deloitte, Accenture, E&Y, KPMG, PwC, Slalom, etc.) background is highly desirable\nDemonstrated experience traversing from lower level details to executive level birds eye view on project progress, execution and deliverables\nRunning effective client meetings (setting context, establishing goals, capturing key decisions, managing scope changes, etc.)\nManaging scope and negotiating change requests\nStrong experience and familiarity with tools, templates and accelerators of different types pertaining to different stages of a project (e.g., project retrospective tools, Jira backlog boards, Quality Strategy templates, Functional design documents, etc.)\nExpert experience with tools like Jira and Confluence\nExceptional proficiency with project - and stakeholder-management theory and practices – demonstrated ability to proactively drive workstreams with minimal supervision, independently escalate and resolve issues, handle changes in technical direction, etc.\nCandidate must be local to Austin area."
        ],
        [
         "4",
         "Business Analyst",
         "Description\nWe are seeking a skilled Business Analyst to join our team. As a Business Analyst at our fast-growing organization, you will play a pivotal role in our operations and R&D teams. You will excel in data analysis using tools like Excel, Sheets, and other relevant software. Your proficiency in project management and financial modeling will drive accurate forecasting and planning, aiding critical decision-making processes. Leveraging your experience, you will execute a diverse range of operational and analytics tasks. Your collaborative nature will shine as you work closely with cross-functional teams to drive innovation and operational excellence.\nResponsibilities:\nAnalyze key business metrics and devise improvement plans\nUtilize Excel, Sheets, and other tools for comprehensive data analysis\nApply financial modeling expertise for accurate forecasting and planning\nManage projects efficiently, ensuring timely delivery and successful execution\nCollaborate with operations and R&D teams to provide actionable insights",
         "Benefits\nFood Allowance\nGovernment Benefits\n13th Month pay\nWork Equipment\nNight Differential if applicable (10% of hourly rate)\n20 Leaves (after 6 months)\nHoliday pay (200% on Regular holidays; 130% on Special holidays)\nOvertime pay (max of 10.25 hrs/day)\nReferral bonus (P10,000 if referral passed and stayed with the company for 3 months)\nHMO (after 6 months)",
         "Requirements\nBachelor's Degree in management or other related fields\nProficiency in Excel / Sheets for data analysis\nStrong project management skills\nTraining in financial modeling\nExperience in forecasting, planning, and project management\nExcellent analytical and problem-solving abilities\nMust be willing to work US business hours\nFlexibility in coverage – being able to support a wide array of personalities and leaders\nNice-to-have:\nExperience working in major consulting/accounting firms, BPOs, and/or banks\nExperience in virtual assistance or remote work\nExperience in a startup environment, US-based company, or other similarly fast-paced, highly demanding, high volume, dynamic environment"
        ]
       ],
       "shape": {
        "columns": 4,
        "rows": 5
       }
      },
      "text/html": [
       "<div>\n",
       "<style scoped>\n",
       "    .dataframe tbody tr th:only-of-type {\n",
       "        vertical-align: middle;\n",
       "    }\n",
       "\n",
       "    .dataframe tbody tr th {\n",
       "        vertical-align: top;\n",
       "    }\n",
       "\n",
       "    .dataframe thead th {\n",
       "        text-align: right;\n",
       "    }\n",
       "</style>\n",
       "<table border=\"1\" class=\"dataframe\">\n",
       "  <thead>\n",
       "    <tr style=\"text-align: right;\">\n",
       "      <th></th>\n",
       "      <th>Category</th>\n",
       "      <th>Description</th>\n",
       "      <th>Benefits</th>\n",
       "      <th>full_requirements</th>\n",
       "    </tr>\n",
       "  </thead>\n",
       "  <tbody>\n",
       "    <tr>\n",
       "      <th>0</th>\n",
       "      <td>Business Analyst</td>\n",
       "      <td>Description\\nJob Title: Junior Business Analys...</td>\n",
       "      <td>Benefits\\nMethods is passionate about its peop...</td>\n",
       "      <td>Requirements\\n• Confidence in communicating an...</td>\n",
       "    </tr>\n",
       "    <tr>\n",
       "      <th>1</th>\n",
       "      <td>Business Analyst</td>\n",
       "      <td>Description\\nThe Business Analyst (BA) will ca...</td>\n",
       "      <td>Benefits\\nA competitive base salary\\nBonus sch...</td>\n",
       "      <td>Requirements\\nYou have…\\nA methodical approach...</td>\n",
       "    </tr>\n",
       "    <tr>\n",
       "      <th>2</th>\n",
       "      <td>Business Analyst</td>\n",
       "      <td>Description\\nWe help our clients design and de...</td>\n",
       "      <td>Benefits\\nWe have 2 promotion windows open eac...</td>\n",
       "      <td>Requirements\\nYou are open, curious, and excit...</td>\n",
       "    </tr>\n",
       "    <tr>\n",
       "      <th>3</th>\n",
       "      <td>Business Analyst</td>\n",
       "      <td>Description\\nFounded in 2015 and rapidly expan...</td>\n",
       "      <td>Benefits\\nIn addition to a competitive package...</td>\n",
       "      <td>Requirements\\nKey Responsibilities Include:\\nP...</td>\n",
       "    </tr>\n",
       "    <tr>\n",
       "      <th>4</th>\n",
       "      <td>Business Analyst</td>\n",
       "      <td>Description\\nWe are seeking a skilled Business...</td>\n",
       "      <td>Benefits\\nFood Allowance\\nGovernment Benefits\\...</td>\n",
       "      <td>Requirements\\nBachelor's Degree in management ...</td>\n",
       "    </tr>\n",
       "  </tbody>\n",
       "</table>\n",
       "</div>"
      ],
      "text/plain": [
       "           Category                                        Description  \\\n",
       "0  Business Analyst  Description\\nJob Title: Junior Business Analys...   \n",
       "1  Business Analyst  Description\\nThe Business Analyst (BA) will ca...   \n",
       "2  Business Analyst  Description\\nWe help our clients design and de...   \n",
       "3  Business Analyst  Description\\nFounded in 2015 and rapidly expan...   \n",
       "4  Business Analyst  Description\\nWe are seeking a skilled Business...   \n",
       "\n",
       "                                            Benefits  \\\n",
       "0  Benefits\\nMethods is passionate about its peop...   \n",
       "1  Benefits\\nA competitive base salary\\nBonus sch...   \n",
       "2  Benefits\\nWe have 2 promotion windows open eac...   \n",
       "3  Benefits\\nIn addition to a competitive package...   \n",
       "4  Benefits\\nFood Allowance\\nGovernment Benefits\\...   \n",
       "\n",
       "                                   full_requirements  \n",
       "0  Requirements\\n• Confidence in communicating an...  \n",
       "1  Requirements\\nYou have…\\nA methodical approach...  \n",
       "2  Requirements\\nYou are open, curious, and excit...  \n",
       "3  Requirements\\nKey Responsibilities Include:\\nP...  \n",
       "4  Requirements\\nBachelor's Degree in management ...  "
      ]
     },
     "execution_count": 15,
     "metadata": {},
     "output_type": "execute_result"
    }
   ],
   "source": [
    "df2.head()"
   ]
  },
  {
   "cell_type": "code",
   "execution_count": 16,
   "id": "1c4f2ba1",
   "metadata": {},
   "outputs": [
    {
     "name": "stdout",
     "output_type": "stream",
     "text": [
      "<class 'pandas.core.frame.DataFrame'>\n",
      "Index: 213 entries, 0 to 323\n",
      "Data columns (total 4 columns):\n",
      " #   Column             Non-Null Count  Dtype \n",
      "---  ------             --------------  ----- \n",
      " 0   Category           213 non-null    object\n",
      " 1   Description        204 non-null    object\n",
      " 2   Benefits           180 non-null    object\n",
      " 3   full_requirements  213 non-null    object\n",
      "dtypes: object(4)\n",
      "memory usage: 8.3+ KB\n"
     ]
    }
   ],
   "source": [
    "df2.info()"
   ]
  },
  {
   "cell_type": "code",
   "execution_count": 17,
   "id": "1fbebd4c",
   "metadata": {},
   "outputs": [],
   "source": [
    "df2.to_csv(r'C:\\Users\\Garen\\Desktop\\CVreviewArabian\\data\\preprocessed\\job_description_cleaned.csv',index=False)"
   ]
  },
  {
   "cell_type": "code",
   "execution_count": 18,
   "id": "e89f1cc0",
   "metadata": {},
   "outputs": [],
   "source": [
    "df2.dropna(inplace=True)"
   ]
  },
  {
   "cell_type": "code",
   "execution_count": 19,
   "id": "b36c0811",
   "metadata": {},
   "outputs": [
    {
     "name": "stdout",
     "output_type": "stream",
     "text": [
      "<class 'pandas.core.frame.DataFrame'>\n",
      "Index: 171 entries, 0 to 323\n",
      "Data columns (total 4 columns):\n",
      " #   Column             Non-Null Count  Dtype \n",
      "---  ------             --------------  ----- \n",
      " 0   Category           171 non-null    object\n",
      " 1   Description        171 non-null    object\n",
      " 2   Benefits           171 non-null    object\n",
      " 3   full_requirements  171 non-null    object\n",
      "dtypes: object(4)\n",
      "memory usage: 6.7+ KB\n"
     ]
    }
   ],
   "source": [
    "df2.info()"
   ]
  },
  {
   "cell_type": "code",
   "execution_count": 20,
   "id": "201716f6",
   "metadata": {},
   "outputs": [],
   "source": [
    "df2.to_csv(r'C:\\Users\\Garen\\Desktop\\CVreviewArabian\\data\\preprocessed\\job_description_DropNA.csv',index=False)"
   ]
  }
 ],
 "metadata": {
  "kernelspec": {
   "display_name": "ArabainP",
   "language": "python",
   "name": "python3"
  },
  "language_info": {
   "codemirror_mode": {
    "name": "ipython",
    "version": 3
   },
   "file_extension": ".py",
   "mimetype": "text/x-python",
   "name": "python",
   "nbconvert_exporter": "python",
   "pygments_lexer": "ipython3",
   "version": "3.12.3"
  }
 },
 "nbformat": 4,
 "nbformat_minor": 5
}
